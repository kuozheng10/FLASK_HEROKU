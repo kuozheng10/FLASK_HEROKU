{
  "nbformat": 4,
  "nbformat_minor": 0,
  "metadata": {
    "colab": {
      "name": "Untitled2.ipynb",
      "provenance": [],
      "collapsed_sections": [],
      "toc_visible": true,
      "authorship_tag": "ABX9TyMIC1u4tR8sfi4ccCBf+weP",
      "include_colab_link": true
    },
    "kernelspec": {
      "name": "python3",
      "display_name": "Python 3"
    }
  },
  "cells": [
    {
      "cell_type": "markdown",
      "metadata": {
        "id": "view-in-github",
        "colab_type": "text"
      },
      "source": [
        "<a href=\"https://colab.research.google.com/github/kuozheng10/FLASK_HEROKU/blob/master/DataReader_sample01.ipynb\" target=\"_parent\"><img src=\"https://colab.research.google.com/assets/colab-badge.svg\" alt=\"Open In Colab\"/></a>"
      ]
    },
    {
      "cell_type": "code",
      "metadata": {
        "id": "UA1cbRvmZnHb",
        "colab_type": "code",
        "colab": {}
      },
      "source": [
        "import pandas as pd\n",
        "import pandas_datareader.data as web"
      ],
      "execution_count": 0,
      "outputs": []
    },
    {
      "cell_type": "code",
      "metadata": {
        "id": "SPl8rQUkZ1i9",
        "colab_type": "code",
        "colab": {}
      },
      "source": [
        "df = pd.read_json('https://www.yuantaetfs.com/api/StkWeights?date=&fundid=1066')"
      ],
      "execution_count": 0,
      "outputs": []
    },
    {
      "cell_type": "code",
      "metadata": {
        "id": "rDNn2RPynT1F",
        "colab_type": "code",
        "outputId": "8986ee22-33ba-410c-f6c7-84bff3e76351",
        "colab": {
          "base_uri": "https://localhost:8080/",
          "height": 202
        }
      },
      "source": [
        "df.head()"
      ],
      "execution_count": 0,
      "outputs": [
        {
          "output_type": "execute_result",
          "data": {
            "text/html": [
              "<div>\n",
              "<style scoped>\n",
              "    .dataframe tbody tr th:only-of-type {\n",
              "        vertical-align: middle;\n",
              "    }\n",
              "\n",
              "    .dataframe tbody tr th {\n",
              "        vertical-align: top;\n",
              "    }\n",
              "\n",
              "    .dataframe thead th {\n",
              "        text-align: right;\n",
              "    }\n",
              "</style>\n",
              "<table border=\"1\" class=\"dataframe\">\n",
              "  <thead>\n",
              "    <tr style=\"text-align: right;\">\n",
              "      <th></th>\n",
              "      <th>code</th>\n",
              "      <th>ym</th>\n",
              "      <th>name</th>\n",
              "      <th>ename</th>\n",
              "      <th>weights</th>\n",
              "      <th>qty</th>\n",
              "    </tr>\n",
              "  </thead>\n",
              "  <tbody>\n",
              "    <tr>\n",
              "      <th>0</th>\n",
              "      <td>1101</td>\n",
              "      <td>NaN</td>\n",
              "      <td>台泥</td>\n",
              "      <td>Taiwan Cement Corp.</td>\n",
              "      <td>1.19</td>\n",
              "      <td>23340630</td>\n",
              "    </tr>\n",
              "    <tr>\n",
              "      <th>1</th>\n",
              "      <td>1102</td>\n",
              "      <td>NaN</td>\n",
              "      <td>亞泥</td>\n",
              "      <td>Asia Cement Corporation</td>\n",
              "      <td>0.57</td>\n",
              "      <td>11217648</td>\n",
              "    </tr>\n",
              "    <tr>\n",
              "      <th>2</th>\n",
              "      <td>1216</td>\n",
              "      <td>NaN</td>\n",
              "      <td>統一</td>\n",
              "      <td>UNI-PRESIDENT ENTERPRISES CORP.</td>\n",
              "      <td>1.87</td>\n",
              "      <td>23185614</td>\n",
              "    </tr>\n",
              "    <tr>\n",
              "      <th>3</th>\n",
              "      <td>1301</td>\n",
              "      <td>NaN</td>\n",
              "      <td>台塑</td>\n",
              "      <td>Formosa Plastics Corporation</td>\n",
              "      <td>2.28</td>\n",
              "      <td>23551472</td>\n",
              "    </tr>\n",
              "    <tr>\n",
              "      <th>4</th>\n",
              "      <td>1303</td>\n",
              "      <td>NaN</td>\n",
              "      <td>南亞</td>\n",
              "      <td>NAN YA PLASTICS CORPORATION</td>\n",
              "      <td>1.89</td>\n",
              "      <td>27307540</td>\n",
              "    </tr>\n",
              "  </tbody>\n",
              "</table>\n",
              "</div>"
            ],
            "text/plain": [
              "   code  ym name                            ename  weights       qty\n",
              "0  1101 NaN   台泥              Taiwan Cement Corp.     1.19  23340630\n",
              "1  1102 NaN   亞泥          Asia Cement Corporation     0.57  11217648\n",
              "2  1216 NaN   統一  UNI-PRESIDENT ENTERPRISES CORP.     1.87  23185614\n",
              "3  1301 NaN   台塑     Formosa Plastics Corporation     2.28  23551472\n",
              "4  1303 NaN   南亞      NAN YA PLASTICS CORPORATION     1.89  27307540"
            ]
          },
          "metadata": {
            "tags": []
          },
          "execution_count": 4
        }
      ]
    },
    {
      "cell_type": "code",
      "metadata": {
        "id": "xVMXhA20n9kk",
        "colab_type": "code",
        "outputId": "e0b841a7-fa72-4f2f-914b-a37b233d0afb",
        "colab": {
          "base_uri": "https://localhost:8080/",
          "height": 884
        }
      },
      "source": [
        "for i, row in df.iterrows():\n",
        "  prices = web.DataReader(f\"{row['code']}.tw\",'yahoo','2015-01-01')\n",
        "  print(row['name'],\"==>\",prices['Adj Close'][-1]/prices['Adj Close'][0])"
      ],
      "execution_count": 0,
      "outputs": [
        {
          "output_type": "stream",
          "text": [
            "台泥 ==> 1.5462499459306418\n",
            "亞泥 ==> 1.2822288677896359\n",
            "統一 ==> 1.6985322438494717\n",
            "台塑 ==> 1.4009401985516785\n",
            "南亞 ==> 1.1713590013280495\n",
            "台化 ==> 1.3085210534916578\n",
            "遠東新 ==> 0.9462320225384239\n",
            "中鋼 ==> 0.8615797088975192\n",
            "正新 ==> 0.5077550378898028\n",
            "和泰車 ==> 1.2709869834768681\n",
            "光寶科 ==> 1.6201725676965848\n",
            "聯電 ==> 1.2818198683502697\n",
            "台達電 ==> 0.8316418541397915\n",
            "鴻海 ==> 0.9267865461267524\n",
            "國巨 ==> 6.292816561660775\n",
            "台積電 ==> 2.5627016576720343\n",
            "華碩 ==> 0.7601893650702354\n",
            "廣達 ==> 1.0654644568704663\n",
            "研華 ==> 1.4306124640258275\n",
            "南亞科 ==> 0.9526415221495605\n",
            "中華電 ==> 1.4644064166387354\n",
            "聯發科 ==> 0.9202097917368899\n",
            "可成 ==> 1.0496650119081177\n",
            "台灣高鐵 ==> 3.6654667484910393\n",
            "彰銀 ==> 1.494547880112411\n",
            "中壽 ==> 1.0847041422566757\n",
            "華南金 ==> 1.6106399543940684\n",
            "富邦金 ==> 0.9823534680816344\n",
            "國泰金 ==> 0.8311339335622386\n",
            "開發金 ==> 1.0825024157409526\n",
            "玉山金 ==> 2.255131669831848\n",
            "元大金 ==> 1.3163763612840766\n",
            "兆豐金 ==> 1.6644706645770517\n",
            "台新金 ==> 1.2790290281941585\n",
            "新光金 ==> 1.0364805316766597\n",
            "永豐金 ==> 1.3419559634296614\n",
            "中信金 ==> 1.3349351950977966\n",
            "第一金 ==> 1.7629873683401227\n",
            "統一超 ==> 1.4639888567132362\n",
            "大立光 ==> 1.7239231838310178\n",
            "台灣大 ==> 1.3069971542379335\n",
            "日月光投控 ==> 0.9598793501089095\n",
            "遠傳 ==> 1.1232423612773346\n",
            "和碩 ==> 1.1669236519453123\n",
            "中租-KY ==> 1.7761157247977453\n",
            "上海商銀 ==> 1.5279331473635838\n",
            "合庫金 ==> 1.7704367249485564\n",
            "台塑化 ==> 1.4715501689495782\n",
            "寶成 ==> 0.8445920997130301\n",
            "豐泰 ==> 2.2747773337151473\n"
          ],
          "name": "stdout"
        }
      ]
    }
  ]
}