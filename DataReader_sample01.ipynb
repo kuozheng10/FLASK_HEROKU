{
  "nbformat": 4,
  "nbformat_minor": 0,
  "metadata": {
    "colab": {
      "name": "Untitled2.ipynb",
      "provenance": [],
      "collapsed_sections": [],
      "toc_visible": true,
      "authorship_tag": "ABX9TyOvdJZVgg9cIIQeUDFvKKcP",
      "include_colab_link": true
    },
    "kernelspec": {
      "name": "python3",
      "display_name": "Python 3"
    }
  },
  "cells": [
    {
      "cell_type": "markdown",
      "metadata": {
        "id": "view-in-github",
        "colab_type": "text"
      },
      "source": [
        "<a href=\"https://colab.research.google.com/github/kuozheng10/FLASK_HEROKU/blob/master/DataReader_sample01.ipynb\" target=\"_parent\"><img src=\"https://colab.research.google.com/assets/colab-badge.svg\" alt=\"Open In Colab\"/></a>"
      ]
    },
    {
      "cell_type": "code",
      "metadata": {
        "id": "UA1cbRvmZnHb",
        "colab_type": "code",
        "colab": {}
      },
      "source": [
        "import pandas as pd\n",
        "import pandas_datareader.data as web"
      ],
      "execution_count": 0,
      "outputs": []
    },
    {
      "cell_type": "code",
      "metadata": {
        "id": "SPl8rQUkZ1i9",
        "colab_type": "code",
        "colab": {}
      },
      "source": [
        "df = pd.read_json('https://www.yuantaetfs.com/api/StkWeights?date=&fundid=1066')"
      ],
      "execution_count": 0,
      "outputs": []
    },
    {
      "cell_type": "code",
      "metadata": {
        "id": "rDNn2RPynT1F",
        "colab_type": "code",
        "colab": {
          "base_uri": "https://localhost:8080/",
          "height": 202
        },
        "outputId": "8986ee22-33ba-410c-f6c7-84bff3e76351"
      },
      "source": [
        "df.head()"
      ],
      "execution_count": 4,
      "outputs": [
        {
          "output_type": "execute_result",
          "data": {
            "text/html": [
              "<div>\n",
              "<style scoped>\n",
              "    .dataframe tbody tr th:only-of-type {\n",
              "        vertical-align: middle;\n",
              "    }\n",
              "\n",
              "    .dataframe tbody tr th {\n",
              "        vertical-align: top;\n",
              "    }\n",
              "\n",
              "    .dataframe thead th {\n",
              "        text-align: right;\n",
              "    }\n",
              "</style>\n",
              "<table border=\"1\" class=\"dataframe\">\n",
              "  <thead>\n",
              "    <tr style=\"text-align: right;\">\n",
              "      <th></th>\n",
              "      <th>code</th>\n",
              "      <th>ym</th>\n",
              "      <th>name</th>\n",
              "      <th>ename</th>\n",
              "      <th>weights</th>\n",
              "      <th>qty</th>\n",
              "    </tr>\n",
              "  </thead>\n",
              "  <tbody>\n",
              "    <tr>\n",
              "      <th>0</th>\n",
              "      <td>1101</td>\n",
              "      <td>NaN</td>\n",
              "      <td>台泥</td>\n",
              "      <td>Taiwan Cement Corp.</td>\n",
              "      <td>1.19</td>\n",
              "      <td>23340630</td>\n",
              "    </tr>\n",
              "    <tr>\n",
              "      <th>1</th>\n",
              "      <td>1102</td>\n",
              "      <td>NaN</td>\n",
              "      <td>亞泥</td>\n",
              "      <td>Asia Cement Corporation</td>\n",
              "      <td>0.57</td>\n",
              "      <td>11217648</td>\n",
              "    </tr>\n",
              "    <tr>\n",
              "      <th>2</th>\n",
              "      <td>1216</td>\n",
              "      <td>NaN</td>\n",
              "      <td>統一</td>\n",
              "      <td>UNI-PRESIDENT ENTERPRISES CORP.</td>\n",
              "      <td>1.87</td>\n",
              "      <td>23185614</td>\n",
              "    </tr>\n",
              "    <tr>\n",
              "      <th>3</th>\n",
              "      <td>1301</td>\n",
              "      <td>NaN</td>\n",
              "      <td>台塑</td>\n",
              "      <td>Formosa Plastics Corporation</td>\n",
              "      <td>2.28</td>\n",
              "      <td>23551472</td>\n",
              "    </tr>\n",
              "    <tr>\n",
              "      <th>4</th>\n",
              "      <td>1303</td>\n",
              "      <td>NaN</td>\n",
              "      <td>南亞</td>\n",
              "      <td>NAN YA PLASTICS CORPORATION</td>\n",
              "      <td>1.89</td>\n",
              "      <td>27307540</td>\n",
              "    </tr>\n",
              "  </tbody>\n",
              "</table>\n",
              "</div>"
            ],
            "text/plain": [
              "   code  ym name                            ename  weights       qty\n",
              "0  1101 NaN   台泥              Taiwan Cement Corp.     1.19  23340630\n",
              "1  1102 NaN   亞泥          Asia Cement Corporation     0.57  11217648\n",
              "2  1216 NaN   統一  UNI-PRESIDENT ENTERPRISES CORP.     1.87  23185614\n",
              "3  1301 NaN   台塑     Formosa Plastics Corporation     2.28  23551472\n",
              "4  1303 NaN   南亞      NAN YA PLASTICS CORPORATION     1.89  27307540"
            ]
          },
          "metadata": {
            "tags": []
          },
          "execution_count": 4
        }
      ]
    },
    {
      "cell_type": "code",
      "metadata": {
        "id": "xVMXhA20n9kk",
        "colab_type": "code",
        "colab": {
          "base_uri": "https://localhost:8080/",
          "height": 884
        },
        "outputId": "76976120-444c-43d9-b5ec-fd02ac7da875"
      },
      "source": [
        "for i, row in df.iterrows:\n",
        "  prices = web.DataReader(f\"{row['code']}.tw\",'yahoo','2015-01-01')\n",
        "  print(row['name'],\"==>\",prices['Adj Close'][-1]/prices['Adj Close'][0])"
      ],
      "execution_count": 8,
      "outputs": [
        {
          "output_type": "stream",
          "text": [
            "1101 ==> 1.5462499459306418\n",
            "1102 ==> 1.2822288677896359\n",
            "1216 ==> 1.6985322438494717\n",
            "1301 ==> 1.4009401985516785\n",
            "1303 ==> 1.1713590013280495\n",
            "1326 ==> 1.3085210534916578\n",
            "1402 ==> 0.9462320225384239\n",
            "2002 ==> 0.8615797088975192\n",
            "2105 ==> 0.5077550378898028\n",
            "2207 ==> 1.2709869834768681\n",
            "2301 ==> 1.6201725676965848\n",
            "2303 ==> 1.2818198683502697\n",
            "2308 ==> 0.8316418541397915\n",
            "2317 ==> 0.9267865461267524\n",
            "2327 ==> 6.292816561660775\n",
            "2330 ==> 2.5627016576720343\n",
            "2357 ==> 0.7601893650702354\n",
            "2382 ==> 1.0654644568704663\n",
            "2395 ==> 1.4306124640258275\n",
            "2408 ==> 0.9526415221495605\n",
            "2412 ==> 1.4644064166387354\n",
            "2454 ==> 0.9202097917368899\n",
            "2474 ==> 1.0496650119081177\n",
            "2633 ==> 3.6654667484910393\n",
            "2801 ==> 1.494547880112411\n",
            "2823 ==> 1.0847041422566757\n",
            "2880 ==> 1.6106399543940684\n",
            "2881 ==> 0.9823534680816344\n",
            "2882 ==> 0.8311339335622386\n",
            "2883 ==> 1.0825024157409526\n",
            "2884 ==> 2.255131669831848\n",
            "2885 ==> 1.3163763612840766\n",
            "2886 ==> 1.6644706645770517\n",
            "2887 ==> 1.2790290281941585\n",
            "2888 ==> 1.0364805316766597\n",
            "2890 ==> 1.3419559634296614\n",
            "2891 ==> 1.3349351950977966\n",
            "2892 ==> 1.7629873683401227\n",
            "2912 ==> 1.4639888567132362\n",
            "3008 ==> 1.7239231838310178\n",
            "3045 ==> 1.3069971542379335\n",
            "3711 ==> 0.9598793501089095\n",
            "4904 ==> 1.1232423612773346\n",
            "4938 ==> 1.1669236519453123\n",
            "5871 ==> 1.7761157247977453\n",
            "5876 ==> 1.5279331473635838\n",
            "5880 ==> 1.7704367249485564\n",
            "6505 ==> 1.4715501689495782\n",
            "9904 ==> 0.8445920997130301\n",
            "9910 ==> 2.2747773337151473\n"
          ],
          "name": "stdout"
        }
      ]
    }
  ]
}