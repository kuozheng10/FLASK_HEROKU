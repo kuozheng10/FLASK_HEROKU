{
  "nbformat": 4,
  "nbformat_minor": 0,
  "metadata": {
    "colab": {
      "name": "ML_titanic.ipynb",
      "provenance": [],
      "collapsed_sections": [],
      "authorship_tag": "ABX9TyOHRsn/8jIL1Wevopt/vjQJ",
      "include_colab_link": true
    },
    "kernelspec": {
      "name": "python3",
      "display_name": "Python 3"
    }
  },
  "cells": [
    {
      "cell_type": "markdown",
      "metadata": {
        "id": "view-in-github",
        "colab_type": "text"
      },
      "source": [
        "<a href=\"https://colab.research.google.com/github/kuozheng10/FLASK_HEROKU/blob/master/ML_titanic.ipynb\" target=\"_parent\"><img src=\"https://colab.research.google.com/assets/colab-badge.svg\" alt=\"Open In Colab\"/></a>"
      ]
    },
    {
      "cell_type": "code",
      "metadata": {
        "id": "aIQPnpObKhuF",
        "colab_type": "code",
        "colab": {}
      },
      "source": [
        "import pandas as pd\n",
        "import numpy as np\n",
        "from matplotlib import pyplot as plt\n",
        "import matplotlib\n",
        "%matplotlib inline\n",
        "matplotlib.style.use('ggplot')"
      ],
      "execution_count": 0,
      "outputs": []
    },
    {
      "cell_type": "code",
      "metadata": {
        "id": "Cks7bJ4kMCxz",
        "colab_type": "code",
        "colab": {}
      },
      "source": [
        " train = pd.read_csv('train.csv')\n",
        " test = pd.read_csv('test.csv')"
      ],
      "execution_count": 0,
      "outputs": []
    },
    {
      "cell_type": "code",
      "metadata": {
        "id": "6ZHmTtHHQDuR",
        "colab_type": "code",
        "outputId": "221badbb-7b92-46ff-e5ea-125dae41f787",
        "colab": {
          "base_uri": "https://localhost:8080/",
          "height": 50
        }
      },
      "source": [
        "print(train.shape)\n",
        "print(test.shape)"
      ],
      "execution_count": 0,
      "outputs": [
        {
          "output_type": "stream",
          "text": [
            "(891, 12)\n",
            "(418, 11)\n"
          ],
          "name": "stdout"
        }
      ]
    },
    {
      "cell_type": "code",
      "metadata": {
        "id": "QgH6DjRFQk6J",
        "colab_type": "code",
        "colab": {}
      },
      "source": [
        "Y_label = train.Survived\n",
        "#train.drop('Survived',1,inplace=True)\n"
      ],
      "execution_count": 0,
      "outputs": []
    },
    {
      "cell_type": "code",
      "metadata": {
        "id": "tZ3aXQWOXo_P",
        "colab_type": "code",
        "outputId": "1826c5ea-b5b5-4517-a194-bbc93b06029e",
        "colab": {
          "base_uri": "https://localhost:8080/",
          "height": 686
        }
      },
      "source": [
        "print(train)\n",
        "print(test)\n",
        "print(Y_label)"
      ],
      "execution_count": 0,
      "outputs": [
        {
          "output_type": "stream",
          "text": [
            "     PassengerId  Survived  Pclass  ...     Fare Cabin  Embarked\n",
            "0              1         0       3  ...   7.2500   NaN         S\n",
            "1              2         1       1  ...  71.2833   C85         C\n",
            "2              3         1       3  ...   7.9250   NaN         S\n",
            "3              4         1       1  ...  53.1000  C123         S\n",
            "4              5         0       3  ...   8.0500   NaN         S\n",
            "..           ...       ...     ...  ...      ...   ...       ...\n",
            "886          887         0       2  ...  13.0000   NaN         S\n",
            "887          888         1       1  ...  30.0000   B42         S\n",
            "888          889         0       3  ...  23.4500   NaN         S\n",
            "889          890         1       1  ...  30.0000  C148         C\n",
            "890          891         0       3  ...   7.7500   NaN         Q\n",
            "\n",
            "[891 rows x 12 columns]\n",
            "     PassengerId  Pclass  ... Cabin Embarked\n",
            "0            892       3  ...   NaN        Q\n",
            "1            893       3  ...   NaN        S\n",
            "2            894       2  ...   NaN        Q\n",
            "3            895       3  ...   NaN        S\n",
            "4            896       3  ...   NaN        S\n",
            "..           ...     ...  ...   ...      ...\n",
            "413         1305       3  ...   NaN        S\n",
            "414         1306       1  ...  C105        C\n",
            "415         1307       3  ...   NaN        S\n",
            "416         1308       3  ...   NaN        S\n",
            "417         1309       3  ...   NaN        C\n",
            "\n",
            "[418 rows x 11 columns]\n",
            "0      0\n",
            "1      1\n",
            "2      1\n",
            "3      1\n",
            "4      0\n",
            "      ..\n",
            "886    0\n",
            "887    1\n",
            "888    0\n",
            "889    1\n",
            "890    0\n",
            "Name: Survived, Length: 891, dtype: int64\n"
          ],
          "name": "stdout"
        }
      ]
    },
    {
      "cell_type": "code",
      "metadata": {
        "id": "EYeJ4KBDYCwL",
        "colab_type": "code",
        "outputId": "ddddf69b-0b27-413a-9608-540752ffa93e",
        "colab": {
          "base_uri": "https://localhost:8080/",
          "height": 251
        }
      },
      "source": [
        "x_train = train.append(test)\n",
        "print(x_train)"
      ],
      "execution_count": 79,
      "outputs": [
        {
          "output_type": "stream",
          "text": [
            "     PassengerId  Survived  Pclass  ...      Fare Cabin  Embarked\n",
            "0              1       0.0       3  ...    7.2500   NaN         S\n",
            "1              2       1.0       1  ...   71.2833   C85         C\n",
            "2              3       1.0       3  ...    7.9250   NaN         S\n",
            "3              4       1.0       1  ...   53.1000  C123         S\n",
            "4              5       0.0       3  ...    8.0500   NaN         S\n",
            "..           ...       ...     ...  ...       ...   ...       ...\n",
            "413         1305       NaN       3  ...    8.0500   NaN         S\n",
            "414         1306       NaN       1  ...  108.9000  C105         C\n",
            "415         1307       NaN       3  ...    7.2500   NaN         S\n",
            "416         1308       NaN       3  ...    8.0500   NaN         S\n",
            "417         1309       NaN       3  ...   22.3583   NaN         C\n",
            "\n",
            "[1309 rows x 12 columns]\n"
          ],
          "name": "stdout"
        }
      ]
    },
    {
      "cell_type": "code",
      "metadata": {
        "id": "Qf7ItX3WYcTh",
        "colab_type": "code",
        "outputId": "fa275a88-7984-4ce5-e409-dba5f48c4134",
        "colab": {
          "base_uri": "https://localhost:8080/",
          "height": 50
        }
      },
      "source": [
        "print(x_train.columns.values)"
      ],
      "execution_count": 0,
      "outputs": [
        {
          "output_type": "stream",
          "text": [
            "['PassengerId' 'Pclass' 'Name' 'Sex' 'Age' 'SibSp' 'Parch' 'Ticket' 'Fare'\n",
            " 'Cabin' 'Embarked']\n"
          ],
          "name": "stdout"
        }
      ]
    },
    {
      "cell_type": "code",
      "metadata": {
        "id": "fJSi5kU5YmqM",
        "colab_type": "code",
        "outputId": "7c8cf43e-0bcb-42d1-c443-64213cec427a",
        "colab": {
          "base_uri": "https://localhost:8080/",
          "height": 246
        }
      },
      "source": [
        "x_train.head()"
      ],
      "execution_count": 0,
      "outputs": [
        {
          "output_type": "execute_result",
          "data": {
            "text/html": [
              "<div>\n",
              "<style scoped>\n",
              "    .dataframe tbody tr th:only-of-type {\n",
              "        vertical-align: middle;\n",
              "    }\n",
              "\n",
              "    .dataframe tbody tr th {\n",
              "        vertical-align: top;\n",
              "    }\n",
              "\n",
              "    .dataframe thead th {\n",
              "        text-align: right;\n",
              "    }\n",
              "</style>\n",
              "<table border=\"1\" class=\"dataframe\">\n",
              "  <thead>\n",
              "    <tr style=\"text-align: right;\">\n",
              "      <th></th>\n",
              "      <th>PassengerId</th>\n",
              "      <th>Pclass</th>\n",
              "      <th>Name</th>\n",
              "      <th>Sex</th>\n",
              "      <th>Age</th>\n",
              "      <th>SibSp</th>\n",
              "      <th>Parch</th>\n",
              "      <th>Ticket</th>\n",
              "      <th>Fare</th>\n",
              "      <th>Cabin</th>\n",
              "      <th>Embarked</th>\n",
              "    </tr>\n",
              "  </thead>\n",
              "  <tbody>\n",
              "    <tr>\n",
              "      <th>0</th>\n",
              "      <td>1</td>\n",
              "      <td>3</td>\n",
              "      <td>Braund, Mr. Owen Harris</td>\n",
              "      <td>male</td>\n",
              "      <td>22.0</td>\n",
              "      <td>1</td>\n",
              "      <td>0</td>\n",
              "      <td>A/5 21171</td>\n",
              "      <td>7.2500</td>\n",
              "      <td>NaN</td>\n",
              "      <td>S</td>\n",
              "    </tr>\n",
              "    <tr>\n",
              "      <th>1</th>\n",
              "      <td>2</td>\n",
              "      <td>1</td>\n",
              "      <td>Cumings, Mrs. John Bradley (Florence Briggs Th...</td>\n",
              "      <td>female</td>\n",
              "      <td>38.0</td>\n",
              "      <td>1</td>\n",
              "      <td>0</td>\n",
              "      <td>PC 17599</td>\n",
              "      <td>71.2833</td>\n",
              "      <td>C85</td>\n",
              "      <td>C</td>\n",
              "    </tr>\n",
              "    <tr>\n",
              "      <th>2</th>\n",
              "      <td>3</td>\n",
              "      <td>3</td>\n",
              "      <td>Heikkinen, Miss. Laina</td>\n",
              "      <td>female</td>\n",
              "      <td>26.0</td>\n",
              "      <td>0</td>\n",
              "      <td>0</td>\n",
              "      <td>STON/O2. 3101282</td>\n",
              "      <td>7.9250</td>\n",
              "      <td>NaN</td>\n",
              "      <td>S</td>\n",
              "    </tr>\n",
              "    <tr>\n",
              "      <th>3</th>\n",
              "      <td>4</td>\n",
              "      <td>1</td>\n",
              "      <td>Futrelle, Mrs. Jacques Heath (Lily May Peel)</td>\n",
              "      <td>female</td>\n",
              "      <td>35.0</td>\n",
              "      <td>1</td>\n",
              "      <td>0</td>\n",
              "      <td>113803</td>\n",
              "      <td>53.1000</td>\n",
              "      <td>C123</td>\n",
              "      <td>S</td>\n",
              "    </tr>\n",
              "    <tr>\n",
              "      <th>4</th>\n",
              "      <td>5</td>\n",
              "      <td>3</td>\n",
              "      <td>Allen, Mr. William Henry</td>\n",
              "      <td>male</td>\n",
              "      <td>35.0</td>\n",
              "      <td>0</td>\n",
              "      <td>0</td>\n",
              "      <td>373450</td>\n",
              "      <td>8.0500</td>\n",
              "      <td>NaN</td>\n",
              "      <td>S</td>\n",
              "    </tr>\n",
              "  </tbody>\n",
              "</table>\n",
              "</div>"
            ],
            "text/plain": [
              "   PassengerId  Pclass  ... Cabin Embarked\n",
              "0            1       3  ...   NaN        S\n",
              "1            2       1  ...   C85        C\n",
              "2            3       3  ...   NaN        S\n",
              "3            4       1  ...  C123        S\n",
              "4            5       3  ...   NaN        S\n",
              "\n",
              "[5 rows x 11 columns]"
            ]
          },
          "metadata": {
            "tags": []
          },
          "execution_count": 25
        }
      ]
    },
    {
      "cell_type": "code",
      "metadata": {
        "id": "Dto2TBG-Y4BN",
        "colab_type": "code",
        "outputId": "a1817bec-93be-4b06-8199-a52f665dbaf0",
        "colab": {
          "base_uri": "https://localhost:8080/",
          "height": 286
        }
      },
      "source": [
        "x_train.describe()"
      ],
      "execution_count": 5,
      "outputs": [
        {
          "output_type": "execute_result",
          "data": {
            "text/html": [
              "<div>\n",
              "<style scoped>\n",
              "    .dataframe tbody tr th:only-of-type {\n",
              "        vertical-align: middle;\n",
              "    }\n",
              "\n",
              "    .dataframe tbody tr th {\n",
              "        vertical-align: top;\n",
              "    }\n",
              "\n",
              "    .dataframe thead th {\n",
              "        text-align: right;\n",
              "    }\n",
              "</style>\n",
              "<table border=\"1\" class=\"dataframe\">\n",
              "  <thead>\n",
              "    <tr style=\"text-align: right;\">\n",
              "      <th></th>\n",
              "      <th>PassengerId</th>\n",
              "      <th>Survived</th>\n",
              "      <th>Pclass</th>\n",
              "      <th>Age</th>\n",
              "      <th>SibSp</th>\n",
              "      <th>Parch</th>\n",
              "      <th>Fare</th>\n",
              "    </tr>\n",
              "  </thead>\n",
              "  <tbody>\n",
              "    <tr>\n",
              "      <th>count</th>\n",
              "      <td>1309.000000</td>\n",
              "      <td>891.000000</td>\n",
              "      <td>1309.000000</td>\n",
              "      <td>1046.000000</td>\n",
              "      <td>1309.000000</td>\n",
              "      <td>1309.000000</td>\n",
              "      <td>1308.000000</td>\n",
              "    </tr>\n",
              "    <tr>\n",
              "      <th>mean</th>\n",
              "      <td>655.000000</td>\n",
              "      <td>0.383838</td>\n",
              "      <td>2.294882</td>\n",
              "      <td>29.881138</td>\n",
              "      <td>0.498854</td>\n",
              "      <td>0.385027</td>\n",
              "      <td>33.295479</td>\n",
              "    </tr>\n",
              "    <tr>\n",
              "      <th>std</th>\n",
              "      <td>378.020061</td>\n",
              "      <td>0.486592</td>\n",
              "      <td>0.837836</td>\n",
              "      <td>14.413493</td>\n",
              "      <td>1.041658</td>\n",
              "      <td>0.865560</td>\n",
              "      <td>51.758668</td>\n",
              "    </tr>\n",
              "    <tr>\n",
              "      <th>min</th>\n",
              "      <td>1.000000</td>\n",
              "      <td>0.000000</td>\n",
              "      <td>1.000000</td>\n",
              "      <td>0.170000</td>\n",
              "      <td>0.000000</td>\n",
              "      <td>0.000000</td>\n",
              "      <td>0.000000</td>\n",
              "    </tr>\n",
              "    <tr>\n",
              "      <th>25%</th>\n",
              "      <td>328.000000</td>\n",
              "      <td>0.000000</td>\n",
              "      <td>2.000000</td>\n",
              "      <td>21.000000</td>\n",
              "      <td>0.000000</td>\n",
              "      <td>0.000000</td>\n",
              "      <td>7.895800</td>\n",
              "    </tr>\n",
              "    <tr>\n",
              "      <th>50%</th>\n",
              "      <td>655.000000</td>\n",
              "      <td>0.000000</td>\n",
              "      <td>3.000000</td>\n",
              "      <td>28.000000</td>\n",
              "      <td>0.000000</td>\n",
              "      <td>0.000000</td>\n",
              "      <td>14.454200</td>\n",
              "    </tr>\n",
              "    <tr>\n",
              "      <th>75%</th>\n",
              "      <td>982.000000</td>\n",
              "      <td>1.000000</td>\n",
              "      <td>3.000000</td>\n",
              "      <td>39.000000</td>\n",
              "      <td>1.000000</td>\n",
              "      <td>0.000000</td>\n",
              "      <td>31.275000</td>\n",
              "    </tr>\n",
              "    <tr>\n",
              "      <th>max</th>\n",
              "      <td>1309.000000</td>\n",
              "      <td>1.000000</td>\n",
              "      <td>3.000000</td>\n",
              "      <td>80.000000</td>\n",
              "      <td>8.000000</td>\n",
              "      <td>9.000000</td>\n",
              "      <td>512.329200</td>\n",
              "    </tr>\n",
              "  </tbody>\n",
              "</table>\n",
              "</div>"
            ],
            "text/plain": [
              "       PassengerId    Survived  ...        Parch         Fare\n",
              "count  1309.000000  891.000000  ...  1309.000000  1308.000000\n",
              "mean    655.000000    0.383838  ...     0.385027    33.295479\n",
              "std     378.020061    0.486592  ...     0.865560    51.758668\n",
              "min       1.000000    0.000000  ...     0.000000     0.000000\n",
              "25%     328.000000    0.000000  ...     0.000000     7.895800\n",
              "50%     655.000000    0.000000  ...     0.000000    14.454200\n",
              "75%     982.000000    1.000000  ...     0.000000    31.275000\n",
              "max    1309.000000    1.000000  ...     9.000000   512.329200\n",
              "\n",
              "[8 rows x 7 columns]"
            ]
          },
          "metadata": {
            "tags": []
          },
          "execution_count": 5
        }
      ]
    },
    {
      "cell_type": "code",
      "metadata": {
        "id": "5iSVaM8zZDyq",
        "colab_type": "code",
        "outputId": "60dbb0cc-4597-44ec-9619-279b004e47e9",
        "colab": {
          "base_uri": "https://localhost:8080/",
          "height": 334
        }
      },
      "source": [
        "x_train.info()"
      ],
      "execution_count": 6,
      "outputs": [
        {
          "output_type": "stream",
          "text": [
            "<class 'pandas.core.frame.DataFrame'>\n",
            "Int64Index: 1309 entries, 0 to 417\n",
            "Data columns (total 12 columns):\n",
            " #   Column       Non-Null Count  Dtype  \n",
            "---  ------       --------------  -----  \n",
            " 0   PassengerId  1309 non-null   int64  \n",
            " 1   Survived     891 non-null    float64\n",
            " 2   Pclass       1309 non-null   int64  \n",
            " 3   Name         1309 non-null   object \n",
            " 4   Sex          1309 non-null   object \n",
            " 5   Age          1046 non-null   float64\n",
            " 6   SibSp        1309 non-null   int64  \n",
            " 7   Parch        1309 non-null   int64  \n",
            " 8   Ticket       1309 non-null   object \n",
            " 9   Fare         1308 non-null   float64\n",
            " 10  Cabin        295 non-null    object \n",
            " 11  Embarked     1307 non-null   object \n",
            "dtypes: float64(3), int64(4), object(5)\n",
            "memory usage: 132.9+ KB\n"
          ],
          "name": "stdout"
        }
      ]
    },
    {
      "cell_type": "code",
      "metadata": {
        "id": "6HRUMR8TaKbr",
        "colab_type": "code",
        "outputId": "48f40d4e-03c2-4d0e-f223-9bbdda479285",
        "colab": {
          "base_uri": "https://localhost:8080/",
          "height": 166
        }
      },
      "source": [
        "x_train.describe(include=['O'])"
      ],
      "execution_count": 7,
      "outputs": [
        {
          "output_type": "execute_result",
          "data": {
            "text/html": [
              "<div>\n",
              "<style scoped>\n",
              "    .dataframe tbody tr th:only-of-type {\n",
              "        vertical-align: middle;\n",
              "    }\n",
              "\n",
              "    .dataframe tbody tr th {\n",
              "        vertical-align: top;\n",
              "    }\n",
              "\n",
              "    .dataframe thead th {\n",
              "        text-align: right;\n",
              "    }\n",
              "</style>\n",
              "<table border=\"1\" class=\"dataframe\">\n",
              "  <thead>\n",
              "    <tr style=\"text-align: right;\">\n",
              "      <th></th>\n",
              "      <th>Name</th>\n",
              "      <th>Sex</th>\n",
              "      <th>Ticket</th>\n",
              "      <th>Cabin</th>\n",
              "      <th>Embarked</th>\n",
              "    </tr>\n",
              "  </thead>\n",
              "  <tbody>\n",
              "    <tr>\n",
              "      <th>count</th>\n",
              "      <td>1309</td>\n",
              "      <td>1309</td>\n",
              "      <td>1309</td>\n",
              "      <td>295</td>\n",
              "      <td>1307</td>\n",
              "    </tr>\n",
              "    <tr>\n",
              "      <th>unique</th>\n",
              "      <td>1307</td>\n",
              "      <td>2</td>\n",
              "      <td>929</td>\n",
              "      <td>186</td>\n",
              "      <td>3</td>\n",
              "    </tr>\n",
              "    <tr>\n",
              "      <th>top</th>\n",
              "      <td>Kelly, Mr. James</td>\n",
              "      <td>male</td>\n",
              "      <td>CA. 2343</td>\n",
              "      <td>C23 C25 C27</td>\n",
              "      <td>S</td>\n",
              "    </tr>\n",
              "    <tr>\n",
              "      <th>freq</th>\n",
              "      <td>2</td>\n",
              "      <td>843</td>\n",
              "      <td>11</td>\n",
              "      <td>6</td>\n",
              "      <td>914</td>\n",
              "    </tr>\n",
              "  </tbody>\n",
              "</table>\n",
              "</div>"
            ],
            "text/plain": [
              "                    Name   Sex    Ticket        Cabin Embarked\n",
              "count               1309  1309      1309          295     1307\n",
              "unique              1307     2       929          186        3\n",
              "top     Kelly, Mr. James  male  CA. 2343  C23 C25 C27        S\n",
              "freq                   2   843        11            6      914"
            ]
          },
          "metadata": {
            "tags": []
          },
          "execution_count": 7
        }
      ]
    },
    {
      "cell_type": "markdown",
      "metadata": {
        "id": "XCahlA8xyuhY",
        "colab_type": "text"
      },
      "source": [
        "船上乘客各年紀層的男女比例"
      ]
    },
    {
      "cell_type": "code",
      "metadata": {
        "id": "GTGx8V0pj5Ov",
        "colab_type": "code",
        "outputId": "6de8eefc-cc40-4cf2-acdf-bad3b97885ff",
        "colab": {
          "base_uri": "https://localhost:8080/",
          "height": 517
        }
      },
      "source": [
        "figure = plt.figure(figsize=(15,8))\n",
        "plt.hist([x_train[x_train['Sex']=='male']['Age'],x_train[x_train['Sex']=='female']['Age']],stacked=False,color=['g','r'],bins = 30, label=['Male','Female'])\n",
        "plt.xlabel('Age')\n",
        "plt.ylabel('Number of Sex')\n",
        "plt.legend()"
      ],
      "execution_count": 8,
      "outputs": [
        {
          "output_type": "execute_result",
          "data": {
            "text/plain": [
              "<matplotlib.legend.Legend at 0x7f62c8b0da20>"
            ]
          },
          "metadata": {
            "tags": []
          },
          "execution_count": 8
        },
        {
          "output_type": "display_data",
          "data": {
            "image/png": "[encoded data removed]",
            "text/plain": [
              "<Figure size 1080x576 with 1 Axes>"
            ]
          },
          "metadata": {
            "tags": [],
            "needs_background": "light"
          }
        }
      ]
    },
    {
      "cell_type": "code",
      "metadata": {
        "id": "3skq0RUfn1D7",
        "colab_type": "code",
        "outputId": "f8781541-b2f4-411f-f08e-aa85c2992920",
        "colab": {
          "base_uri": "https://localhost:8080/",
          "height": 107
        }
      },
      "source": [
        "train[['Sex','Survived']].groupby(['Sex'],as_index=False).mean().sort_values(by='Survived',ascending=False)"
      ],
      "execution_count": 9,
      "outputs": [
        {
          "output_type": "execute_result",
          "data": {
            "text/html": [
              "<div>\n",
              "<style scoped>\n",
              "    .dataframe tbody tr th:only-of-type {\n",
              "        vertical-align: middle;\n",
              "    }\n",
              "\n",
              "    .dataframe tbody tr th {\n",
              "        vertical-align: top;\n",
              "    }\n",
              "\n",
              "    .dataframe thead th {\n",
              "        text-align: right;\n",
              "    }\n",
              "</style>\n",
              "<table border=\"1\" class=\"dataframe\">\n",
              "  <thead>\n",
              "    <tr style=\"text-align: right;\">\n",
              "      <th></th>\n",
              "      <th>Sex</th>\n",
              "      <th>Survived</th>\n",
              "    </tr>\n",
              "  </thead>\n",
              "  <tbody>\n",
              "    <tr>\n",
              "      <th>0</th>\n",
              "      <td>female</td>\n",
              "      <td>0.742038</td>\n",
              "    </tr>\n",
              "    <tr>\n",
              "      <th>1</th>\n",
              "      <td>male</td>\n",
              "      <td>0.188908</td>\n",
              "    </tr>\n",
              "  </tbody>\n",
              "</table>\n",
              "</div>"
            ],
            "text/plain": [
              "      Sex  Survived\n",
              "0  female  0.742038\n",
              "1    male  0.188908"
            ]
          },
          "metadata": {
            "tags": []
          },
          "execution_count": 9
        }
      ]
    },
    {
      "cell_type": "markdown",
      "metadata": {
        "id": "zVULjLHyzSg-",
        "colab_type": "text"
      },
      "source": [
        "以人數來看不同性別的悻存率"
      ]
    },
    {
      "cell_type": "code",
      "metadata": {
        "id": "APnnSrjJr_3K",
        "colab_type": "code",
        "outputId": "9a561476-3415-41e6-98a8-42a8c2effbed",
        "colab": {
          "base_uri": "https://localhost:8080/",
          "height": 67
        }
      },
      "source": [
        "print(train[['Sex','Survived']].groupby(by='Sex',as_index=False).mean())"
      ],
      "execution_count": 0,
      "outputs": [
        {
          "output_type": "stream",
          "text": [
            "      Sex  Survived\n",
            "0  female  0.742038\n",
            "1    male  0.188908\n"
          ],
          "name": "stdout"
        }
      ]
    },
    {
      "cell_type": "markdown",
      "metadata": {
        "id": "Z-_lHl0nxIJo",
        "colab_type": "text"
      },
      "source": [
        "以圖型化方式顯示男性與女性存活數與死亡數"
      ]
    },
    {
      "cell_type": "code",
      "metadata": {
        "id": "552rUqRIu0gW",
        "colab_type": "code",
        "outputId": "7ba8df64-4b2c-443c-9596-ab828fe63fe8",
        "colab": {
          "base_uri": "https://localhost:8080/",
          "height": 534
        }
      },
      "source": [
        "survived_sex = train[train['Survived']==1]['Sex'].value_counts()\n",
        "dead_sex = train[train['Survived']==0]['Sex'].value_counts()\n",
        "df = pd.DataFrame([survived_sex,dead_sex])\n",
        "df.index = ['Survived','Dead']\n",
        "df.plot(kind='bar', stacked=True, figsize=(15,8))"
      ],
      "execution_count": 10,
      "outputs": [
        {
          "output_type": "execute_result",
          "data": {
            "text/plain": [
              "<matplotlib.axes._subplots.AxesSubplot at 0x7f62c84a0940>"
            ]
          },
          "metadata": {
            "tags": []
          },
          "execution_count": 10
        },
        {
          "output_type": "display_data",
          "data": {
            "image/png": "[encoded data removed]",
            "text/plain": [
              "<Figure size 1080x576 with 1 Axes>"
            ]
          },
          "metadata": {
            "tags": [],
            "needs_background": "light"
          }
        }
      ]
    },
    {
      "cell_type": "code",
      "metadata": {
        "id": "KoGNfxwhydpg",
        "colab_type": "code",
        "outputId": "75b35ba6-477c-4482-9904-2f7b9ff4758f",
        "colab": {
          "base_uri": "https://localhost:8080/",
          "height": 371
        }
      },
      "source": [
        "total_sex = train['Sex'].value_counts()\n",
        "p_survived_sex = train[train['Survived']==1]['Sex'].value_counts()/total_sex\n",
        "p_dead_sex = train[train['Survived']==0]['Sex'].value_counts()/total_sex\n",
        "df = pd.DataFrame([p_survived_sex,p_dead_sex])\n",
        "df.index = ['Survived','Dead']\n",
        "df.plot(kind='bar',stacked=False,figsize=(10,5))"
      ],
      "execution_count": 0,
      "outputs": [
        {
          "output_type": "execute_result",
          "data": {
            "text/plain": [
              "<matplotlib.axes._subplots.AxesSubplot at 0x7f276a59ef28>"
            ]
          },
          "metadata": {
            "tags": []
          },
          "execution_count": 87
        },
        {
          "output_type": "display_data",
          "data": {
            "image/png": "[encoded data removed]",
            "text/plain": [
              "<Figure size 720x360 with 1 Axes>"
            ]
          },
          "metadata": {
            "tags": []
          }
        }
      ]
    },
    {
      "cell_type": "code",
      "metadata": {
        "id": "Lj7pMC3n-MQq",
        "colab_type": "code",
        "outputId": "62423a39-2d07-4cf7-ba5c-02b3a78b334f",
        "colab": {
          "base_uri": "https://localhost:8080/",
          "height": 33
        }
      },
      "source": [
        "print( train[train['Survived']==1]['Name'].count())"
      ],
      "execution_count": 0,
      "outputs": [
        {
          "output_type": "stream",
          "text": [
            "342\n"
          ],
          "name": "stdout"
        }
      ]
    },
    {
      "cell_type": "code",
      "metadata": {
        "id": "L-6J7Og_1lV9",
        "colab_type": "code",
        "outputId": "d34f8bc7-4e9e-4c54-c696-bb177cb682ed",
        "colab": {
          "base_uri": "https://localhost:8080/",
          "height": 217
        }
      },
      "source": [
        "x_train['Name']"
      ],
      "execution_count": 0,
      "outputs": [
        {
          "output_type": "execute_result",
          "data": {
            "text/plain": [
              "0                                Braund, Mr. Owen Harris\n",
              "1      Cumings, Mrs. John Bradley (Florence Briggs Th...\n",
              "2                                 Heikkinen, Miss. Laina\n",
              "3           Futrelle, Mrs. Jacques Heath (Lily May Peel)\n",
              "4                               Allen, Mr. William Henry\n",
              "                             ...                        \n",
              "413                                   Spector, Mr. Woolf\n",
              "414                         Oliva y Ocana, Dona. Fermina\n",
              "415                         Saether, Mr. Simon Sivertsen\n",
              "416                                  Ware, Mr. Frederick\n",
              "417                             Peter, Master. Michael J\n",
              "Name: Name, Length: 1309, dtype: object"
            ]
          },
          "metadata": {
            "tags": []
          },
          "execution_count": 88
        }
      ]
    },
    {
      "cell_type": "markdown",
      "metadata": {
        "id": "cFv3IFiU3YVe",
        "colab_type": "text"
      },
      "source": [
        "姓名與稱呼"
      ]
    },
    {
      "cell_type": "code",
      "metadata": {
        "id": "dlWhuFRK3V3v",
        "colab_type": "code",
        "outputId": "ccfed4f7-35be-4bfc-b236-8b9681b54fab",
        "colab": {
          "base_uri": "https://localhost:8080/",
          "height": 117
        }
      },
      "source": [
        "for title in ['Mr.','Sir.','Dr.','Major.','Master.']:\n",
        "  num = x_train[(x_train['Name'].str.contains(title))]['Name'].count()\n",
        "  age = x_train[(x_train['Name'].str.contains(title))]['Age'].mean()\n",
        "\n",
        "  print('{}->{} males, Age average is {}'.format(title, num, age))\n",
        "print('--------------------------------------------------------------')"
      ],
      "execution_count": 0,
      "outputs": [
        {
          "output_type": "stream",
          "text": [
            "Mr.->959 males, Age average is 33.32208994708995\n",
            "Sir.->3 males, Age average is 35.5\n",
            "Dr.->17 males, Age average is 37.266666666666666\n",
            "Major.->2 males, Age average is 48.5\n",
            "Master.->61 males, Age average is 5.482641509433963\n",
            "--------------------------------------------------------------\n"
          ],
          "name": "stdout"
        }
      ]
    },
    {
      "cell_type": "code",
      "metadata": {
        "id": "3bFCt_CS6B7w",
        "colab_type": "code",
        "outputId": "a8693be3-4534-4ea5-866f-0b45341237d8",
        "colab": {
          "base_uri": "https://localhost:8080/",
          "height": 84
        }
      },
      "source": [
        "for title in ['Ms.','Miss.','Mrs.','Lady.']:\n",
        "  num = x_train[(x_train['Name'].str.contains(title))]['Name'].count()\n",
        "  age = x_train[(x_train['Name'].str.contains(title))]['Age'].mean()\n",
        "\n",
        "  print('{}-> {} females, Age average is {} '.format(title,num,age))"
      ],
      "execution_count": 0,
      "outputs": [
        {
          "output_type": "stream",
          "text": [
            "Ms.-> 2 females, Age average is 28.0 \n",
            "Miss.-> 260 females, Age average is 21.774238095238097 \n",
            "Mrs.-> 201 females, Age average is 36.804597701149426 \n",
            "Lady.-> 1 females, Age average is 48.0 \n"
          ],
          "name": "stdout"
        }
      ]
    },
    {
      "cell_type": "code",
      "metadata": {
        "id": "LXf1EFZK5j0Z",
        "colab_type": "code",
        "outputId": "87262e4b-8e5f-4cef-8bf6-99b32a79f2a4",
        "colab": {
          "base_uri": "https://localhost:8080/",
          "height": 251
        }
      },
      "source": [
        "print(train)"
      ],
      "execution_count": 0,
      "outputs": [
        {
          "output_type": "stream",
          "text": [
            "     PassengerId  Survived  Pclass  ...     Fare Cabin  Embarked\n",
            "0              1         0       3  ...   7.2500   NaN         S\n",
            "1              2         1       1  ...  71.2833   C85         C\n",
            "2              3         1       3  ...   7.9250   NaN         S\n",
            "3              4         1       1  ...  53.1000  C123         S\n",
            "4              5         0       3  ...   8.0500   NaN         S\n",
            "..           ...       ...     ...  ...      ...   ...       ...\n",
            "886          887         0       2  ...  13.0000   NaN         S\n",
            "887          888         1       1  ...  30.0000   B42         S\n",
            "888          889         0       3  ...  23.4500   NaN         S\n",
            "889          890         1       1  ...  30.0000  C148         C\n",
            "890          891         0       3  ...   7.7500   NaN         Q\n",
            "\n",
            "[891 rows x 12 columns]\n"
          ],
          "name": "stdout"
        }
      ]
    },
    {
      "cell_type": "code",
      "metadata": {
        "id": "CWfakKV-9s6b",
        "colab_type": "code",
        "colab": {}
      },
      "source": [
        "x_train['Family'] = x_train['SibSp'] + x_train['Parch']\n",
        "x_train.drop('SibSp',1,inplace=True)\n",
        "x_train.drop('Parch',1,inplace=True)"
      ],
      "execution_count": 0,
      "outputs": []
    },
    {
      "cell_type": "code",
      "metadata": {
        "id": "lTOQt6TT-f_C",
        "colab_type": "code",
        "outputId": "24b883f0-7058-4fb3-ba41-61b55e023c39",
        "colab": {
          "base_uri": "https://localhost:8080/",
          "height": 318
        }
      },
      "source": [
        "x_train.info()"
      ],
      "execution_count": 12,
      "outputs": [
        {
          "output_type": "stream",
          "text": [
            "<class 'pandas.core.frame.DataFrame'>\n",
            "Int64Index: 1309 entries, 0 to 417\n",
            "Data columns (total 11 columns):\n",
            " #   Column       Non-Null Count  Dtype  \n",
            "---  ------       --------------  -----  \n",
            " 0   PassengerId  1309 non-null   int64  \n",
            " 1   Survived     891 non-null    float64\n",
            " 2   Pclass       1309 non-null   int64  \n",
            " 3   Name         1309 non-null   object \n",
            " 4   Sex          1309 non-null   object \n",
            " 5   Age          1046 non-null   float64\n",
            " 6   Ticket       1309 non-null   object \n",
            " 7   Fare         1308 non-null   float64\n",
            " 8   Cabin        295 non-null    object \n",
            " 9   Embarked     1307 non-null   object \n",
            " 10  Family       1309 non-null   int64  \n",
            "dtypes: float64(3), int64(3), object(5)\n",
            "memory usage: 122.7+ KB\n"
          ],
          "name": "stdout"
        }
      ]
    },
    {
      "cell_type": "markdown",
      "metadata": {
        "id": "DlH5W7jA-ogi",
        "colab_type": "text"
      },
      "source": [
        "Age, Family, Fare欄位值有缺"
      ]
    },
    {
      "cell_type": "code",
      "metadata": {
        "id": "5pHY0PKW_A0v",
        "colab_type": "code",
        "outputId": "20e3eec3-6588-422b-b033-393eb61cbbb7",
        "colab": {
          "base_uri": "https://localhost:8080/",
          "height": 404
        }
      },
      "source": [
        "x_train[x_train['Age'].isnull()]"
      ],
      "execution_count": 0,
      "outputs": [
        {
          "output_type": "execute_result",
          "data": {
            "text/html": [
              "<div>\n",
              "<style scoped>\n",
              "    .dataframe tbody tr th:only-of-type {\n",
              "        vertical-align: middle;\n",
              "    }\n",
              "\n",
              "    .dataframe tbody tr th {\n",
              "        vertical-align: top;\n",
              "    }\n",
              "\n",
              "    .dataframe thead th {\n",
              "        text-align: right;\n",
              "    }\n",
              "</style>\n",
              "<table border=\"1\" class=\"dataframe\">\n",
              "  <thead>\n",
              "    <tr style=\"text-align: right;\">\n",
              "      <th></th>\n",
              "      <th>PassengerId</th>\n",
              "      <th>Survived</th>\n",
              "      <th>Pclass</th>\n",
              "      <th>Name</th>\n",
              "      <th>Sex</th>\n",
              "      <th>Age</th>\n",
              "      <th>Ticket</th>\n",
              "      <th>Fare</th>\n",
              "      <th>Cabin</th>\n",
              "      <th>Embarked</th>\n",
              "      <th>Family</th>\n",
              "    </tr>\n",
              "  </thead>\n",
              "  <tbody>\n",
              "    <tr>\n",
              "      <th>5</th>\n",
              "      <td>6</td>\n",
              "      <td>0.0</td>\n",
              "      <td>3</td>\n",
              "      <td>Moran, Mr. James</td>\n",
              "      <td>male</td>\n",
              "      <td>NaN</td>\n",
              "      <td>330877</td>\n",
              "      <td>8.4583</td>\n",
              "      <td>NaN</td>\n",
              "      <td>Q</td>\n",
              "      <td>0</td>\n",
              "    </tr>\n",
              "    <tr>\n",
              "      <th>17</th>\n",
              "      <td>18</td>\n",
              "      <td>1.0</td>\n",
              "      <td>2</td>\n",
              "      <td>Williams, Mr. Charles Eugene</td>\n",
              "      <td>male</td>\n",
              "      <td>NaN</td>\n",
              "      <td>244373</td>\n",
              "      <td>13.0000</td>\n",
              "      <td>NaN</td>\n",
              "      <td>S</td>\n",
              "      <td>0</td>\n",
              "    </tr>\n",
              "    <tr>\n",
              "      <th>19</th>\n",
              "      <td>20</td>\n",
              "      <td>1.0</td>\n",
              "      <td>3</td>\n",
              "      <td>Masselmani, Mrs. Fatima</td>\n",
              "      <td>female</td>\n",
              "      <td>NaN</td>\n",
              "      <td>2649</td>\n",
              "      <td>7.2250</td>\n",
              "      <td>NaN</td>\n",
              "      <td>C</td>\n",
              "      <td>0</td>\n",
              "    </tr>\n",
              "    <tr>\n",
              "      <th>26</th>\n",
              "      <td>27</td>\n",
              "      <td>0.0</td>\n",
              "      <td>3</td>\n",
              "      <td>Emir, Mr. Farred Chehab</td>\n",
              "      <td>male</td>\n",
              "      <td>NaN</td>\n",
              "      <td>2631</td>\n",
              "      <td>7.2250</td>\n",
              "      <td>NaN</td>\n",
              "      <td>C</td>\n",
              "      <td>0</td>\n",
              "    </tr>\n",
              "    <tr>\n",
              "      <th>28</th>\n",
              "      <td>29</td>\n",
              "      <td>1.0</td>\n",
              "      <td>3</td>\n",
              "      <td>O'Dwyer, Miss. Ellen \"Nellie\"</td>\n",
              "      <td>female</td>\n",
              "      <td>NaN</td>\n",
              "      <td>330959</td>\n",
              "      <td>7.8792</td>\n",
              "      <td>NaN</td>\n",
              "      <td>Q</td>\n",
              "      <td>0</td>\n",
              "    </tr>\n",
              "    <tr>\n",
              "      <th>...</th>\n",
              "      <td>...</td>\n",
              "      <td>...</td>\n",
              "      <td>...</td>\n",
              "      <td>...</td>\n",
              "      <td>...</td>\n",
              "      <td>...</td>\n",
              "      <td>...</td>\n",
              "      <td>...</td>\n",
              "      <td>...</td>\n",
              "      <td>...</td>\n",
              "      <td>...</td>\n",
              "    </tr>\n",
              "    <tr>\n",
              "      <th>408</th>\n",
              "      <td>1300</td>\n",
              "      <td>NaN</td>\n",
              "      <td>3</td>\n",
              "      <td>Riordan, Miss. Johanna Hannah\"\"</td>\n",
              "      <td>female</td>\n",
              "      <td>NaN</td>\n",
              "      <td>334915</td>\n",
              "      <td>7.7208</td>\n",
              "      <td>NaN</td>\n",
              "      <td>Q</td>\n",
              "      <td>0</td>\n",
              "    </tr>\n",
              "    <tr>\n",
              "      <th>410</th>\n",
              "      <td>1302</td>\n",
              "      <td>NaN</td>\n",
              "      <td>3</td>\n",
              "      <td>Naughton, Miss. Hannah</td>\n",
              "      <td>female</td>\n",
              "      <td>NaN</td>\n",
              "      <td>365237</td>\n",
              "      <td>7.7500</td>\n",
              "      <td>NaN</td>\n",
              "      <td>Q</td>\n",
              "      <td>0</td>\n",
              "    </tr>\n",
              "    <tr>\n",
              "      <th>413</th>\n",
              "      <td>1305</td>\n",
              "      <td>NaN</td>\n",
              "      <td>3</td>\n",
              "      <td>Spector, Mr. Woolf</td>\n",
              "      <td>male</td>\n",
              "      <td>NaN</td>\n",
              "      <td>A.5. 3236</td>\n",
              "      <td>8.0500</td>\n",
              "      <td>NaN</td>\n",
              "      <td>S</td>\n",
              "      <td>0</td>\n",
              "    </tr>\n",
              "    <tr>\n",
              "      <th>416</th>\n",
              "      <td>1308</td>\n",
              "      <td>NaN</td>\n",
              "      <td>3</td>\n",
              "      <td>Ware, Mr. Frederick</td>\n",
              "      <td>male</td>\n",
              "      <td>NaN</td>\n",
              "      <td>359309</td>\n",
              "      <td>8.0500</td>\n",
              "      <td>NaN</td>\n",
              "      <td>S</td>\n",
              "      <td>0</td>\n",
              "    </tr>\n",
              "    <tr>\n",
              "      <th>417</th>\n",
              "      <td>1309</td>\n",
              "      <td>NaN</td>\n",
              "      <td>3</td>\n",
              "      <td>Peter, Master. Michael J</td>\n",
              "      <td>male</td>\n",
              "      <td>NaN</td>\n",
              "      <td>2668</td>\n",
              "      <td>22.3583</td>\n",
              "      <td>NaN</td>\n",
              "      <td>C</td>\n",
              "      <td>2</td>\n",
              "    </tr>\n",
              "  </tbody>\n",
              "</table>\n",
              "<p>263 rows × 11 columns</p>\n",
              "</div>"
            ],
            "text/plain": [
              "     PassengerId  Survived  Pclass  ... Cabin Embarked  Family\n",
              "5              6       0.0       3  ...   NaN        Q       0\n",
              "17            18       1.0       2  ...   NaN        S       0\n",
              "19            20       1.0       3  ...   NaN        C       0\n",
              "26            27       0.0       3  ...   NaN        C       0\n",
              "28            29       1.0       3  ...   NaN        Q       0\n",
              "..           ...       ...     ...  ...   ...      ...     ...\n",
              "408         1300       NaN       3  ...   NaN        Q       0\n",
              "410         1302       NaN       3  ...   NaN        Q       0\n",
              "413         1305       NaN       3  ...   NaN        S       0\n",
              "416         1308       NaN       3  ...   NaN        S       0\n",
              "417         1309       NaN       3  ...   NaN        C       2\n",
              "\n",
              "[263 rows x 11 columns]"
            ]
          },
          "metadata": {
            "tags": []
          },
          "execution_count": 22
        }
      ]
    },
    {
      "cell_type": "code",
      "metadata": {
        "id": "Akgb5F4OI-F4",
        "colab_type": "code",
        "outputId": "bca4888e-5716-4587-d22b-12dedcc549a9",
        "colab": {
          "base_uri": "https://localhost:8080/",
          "height": 100
        }
      },
      "source": [
        "for title in ['Mr\\.','Sir\\.','Dr\\.','Major\\.','Master\\.']:\n",
        "  num = x_train[(x_train['Name'].str.contains(title))]['Name'].count()\n",
        "  age_mean = round(x_train[(x_train['Name'].str.contains(title))]['Age'].mean(),1)\n",
        "  age_median = x_train[(x_train['Name'].str.contains(title))]['Age'].median()\n",
        "  num_survived = x_train[(x_train['Survived']==1) & (x_train['Name'].str.contains(title))]['Name'].count()\n",
        "  num_dead = x_train[(x_train['Survived']==0) & (x_train['Name'].str.contains(title))]['Name'].count()\n",
        "  num_total = num_survived + num_dead\n",
        "  p_survived = num_survived/num_total\n",
        "  print('{} -> {} males,Age average is {}, median is {}, {} survived, {} dead, {:.2%}  survived'.format(title,num,age_mean, age_median, num_survived, num_dead, p_survived))"
      ],
      "execution_count": 0,
      "outputs": [
        {
          "output_type": "stream",
          "text": [
            "Mr\\. -> 757 males,Age average is 32.3, median is 29.0, 81 survived, 436 dead, 15.67%  survived\n",
            "Sir\\. -> 1 males,Age average is 49.0, median is 49.0, 1 survived, 0 dead, 100.00%  survived\n",
            "Dr\\. -> 8 males,Age average is 43.6, median is 49.0, 3 survived, 4 dead, 42.86%  survived\n",
            "Major\\. -> 2 males,Age average is 48.5, median is 48.5, 1 survived, 1 dead, 50.00%  survived\n",
            "Master\\. -> 61 males,Age average is 5.5, median is 4.0, 23 survived, 17 dead, 57.50%  survived\n"
          ],
          "name": "stdout"
        }
      ]
    },
    {
      "cell_type": "code",
      "metadata": {
        "id": "tqxWYcp0AmlP",
        "colab_type": "code",
        "outputId": "0b7f8b94-d3a9-45f5-c7a6-35e618c7e9b6",
        "colab": {
          "base_uri": "https://localhost:8080/",
          "height": 84
        }
      },
      "source": [
        "for title in ['Ms\\.','Miss\\.','Mrs\\.','Lady\\.']:\n",
        "  num = x_train[(x_train['Name'].str.contains(title))]['Name'].count()\n",
        "  age_mean = x_train[(x_train['Name'].str.contains(title))]['Age'].mean()\n",
        "  age_median = x_train[(x_train['Name'].str.contains(title))]['Age'].median()\n",
        "  num_survived = x_train[(x_train['Survived']==1) & (x_train['Name'].str.contains(title))]['Name'].count()\n",
        "  num_dead = x_train[(x_train['Survived']==0) & (x_train['Name'].str.contains(title))]['Name'].count()\n",
        "  num_total = num_survived + num_dead\n",
        "  p_survived = num_survived / num_total\n",
        "\n",
        "  print('{} -> {} females, Age average is {}, median is {}, {} survived, {} dead, {:.2%} survived'.format(title,num,age_mean,age_median,num_survived,num_dead,p_survived))"
      ],
      "execution_count": 0,
      "outputs": [
        {
          "output_type": "stream",
          "text": [
            "Ms\\. -> 2 females, Age average is 28.0, median is 28.0, 1 survived, 0 dead, 100.00% survived\n",
            "Miss\\. -> 260 females, Age average is 21.774238095238097, median is 22.0, 127 survived, 55 dead, 69.78% survived\n",
            "Mrs\\. -> 197 females, Age average is 36.99411764705882, median is 35.5, 99 survived, 26 dead, 79.20% survived\n",
            "Lady\\. -> 1 females, Age average is 48.0, median is 48.0, 1 survived, 0 dead, 100.00% survived\n"
          ],
          "name": "stdout"
        }
      ]
    },
    {
      "cell_type": "markdown",
      "metadata": {
        "id": "4bk3PSsBQiS1",
        "colab_type": "text"
      },
      "source": [
        "將Age欄位用中位數來取代"
      ]
    },
    {
      "cell_type": "code",
      "metadata": {
        "id": "Xhge8vVqMtKe",
        "colab_type": "code",
        "colab": {}
      },
      "source": [
        "mask = (x_train['Age'].isnull()) & ((x_train['Name'].str.contains('Ms\\.')) | (x_train['Name'].str.contains('Miss\\.')) | (x_train['Name'].str.contains('Mrs\\.')))\n",
        "mask2 = ((x_train['Name'].str.contains('Ms\\.')) | (x_train['Name'].str.contains('Miss\\.')) | (x_train['Name'].str.contains('Mrs\\.')))\n",
        "x_train.loc[mask,'Age'] = x_train.loc[mask,'Age'].fillna(x_train.loc[mask2,'Age'].mean())"
      ],
      "execution_count": 0,
      "outputs": []
    },
    {
      "cell_type": "code",
      "metadata": {
        "id": "RiYVP_MWPKqn",
        "colab_type": "code",
        "outputId": "4855598f-cb52-416a-c5e9-288a567f48d8",
        "colab": {
          "base_uri": "https://localhost:8080/",
          "height": 318
        }
      },
      "source": [
        "x_train.info()"
      ],
      "execution_count": 14,
      "outputs": [
        {
          "output_type": "stream",
          "text": [
            "<class 'pandas.core.frame.DataFrame'>\n",
            "Int64Index: 1309 entries, 0 to 417\n",
            "Data columns (total 11 columns):\n",
            " #   Column       Non-Null Count  Dtype  \n",
            "---  ------       --------------  -----  \n",
            " 0   PassengerId  1309 non-null   int64  \n",
            " 1   Survived     891 non-null    float64\n",
            " 2   Pclass       1309 non-null   int64  \n",
            " 3   Name         1309 non-null   object \n",
            " 4   Sex          1309 non-null   object \n",
            " 5   Age          1124 non-null   float64\n",
            " 6   Ticket       1309 non-null   object \n",
            " 7   Fare         1308 non-null   float64\n",
            " 8   Cabin        295 non-null    object \n",
            " 9   Embarked     1307 non-null   object \n",
            " 10  Family       1309 non-null   int64  \n",
            "dtypes: float64(3), int64(3), object(5)\n",
            "memory usage: 122.7+ KB\n"
          ],
          "name": "stdout"
        }
      ]
    },
    {
      "cell_type": "code",
      "metadata": {
        "id": "xoM4y6DgPu8N",
        "colab_type": "code",
        "colab": {}
      },
      "source": [
        "mask = (x_train['Age'].isnull()) & ((x_train['Name'].str.contains('Mr\\.')) | (x_train['Name'].str.contains('Sir\\.')) | (x_train['Name'].str.contains('Major')) )\n",
        "mask2 = ((x_train['Name'].str.contains('Mr\\.')) | (x_train['Name'].str.contains('Sir\\.')) | (x_train['Name'].str.contains('Major')) )\n",
        "x_train.loc[mask,'Age'] = x_train.loc[mask,'Age'].fillna(x_train.loc[mask2,'Age'].median())"
      ],
      "execution_count": 0,
      "outputs": []
    },
    {
      "cell_type": "code",
      "metadata": {
        "id": "fiWpi0lpLkD6",
        "colab_type": "code",
        "outputId": "0f1fb7d2-4d74-4e8c-b846-c189476d8fe8",
        "colab": {
          "base_uri": "https://localhost:8080/",
          "height": 318
        }
      },
      "source": [
        "x_train.info()"
      ],
      "execution_count": 16,
      "outputs": [
        {
          "output_type": "stream",
          "text": [
            "<class 'pandas.core.frame.DataFrame'>\n",
            "Int64Index: 1309 entries, 0 to 417\n",
            "Data columns (total 11 columns):\n",
            " #   Column       Non-Null Count  Dtype  \n",
            "---  ------       --------------  -----  \n",
            " 0   PassengerId  1309 non-null   int64  \n",
            " 1   Survived     891 non-null    float64\n",
            " 2   Pclass       1309 non-null   int64  \n",
            " 3   Name         1309 non-null   object \n",
            " 4   Sex          1309 non-null   object \n",
            " 5   Age          1300 non-null   float64\n",
            " 6   Ticket       1309 non-null   object \n",
            " 7   Fare         1308 non-null   float64\n",
            " 8   Cabin        295 non-null    object \n",
            " 9   Embarked     1307 non-null   object \n",
            " 10  Family       1309 non-null   int64  \n",
            "dtypes: float64(3), int64(3), object(5)\n",
            "memory usage: 122.7+ KB\n"
          ],
          "name": "stdout"
        }
      ]
    },
    {
      "cell_type": "code",
      "metadata": {
        "id": "5pN_8QQ8Ls7U",
        "colab_type": "code",
        "outputId": "522516db-e47a-4516-a91c-864d09994458",
        "colab": {
          "base_uri": "https://localhost:8080/",
          "height": 349
        }
      },
      "source": [
        "x_train[x_train['Age'].isnull()]"
      ],
      "execution_count": 0,
      "outputs": [
        {
          "output_type": "execute_result",
          "data": {
            "text/html": [
              "<div>\n",
              "<style scoped>\n",
              "    .dataframe tbody tr th:only-of-type {\n",
              "        vertical-align: middle;\n",
              "    }\n",
              "\n",
              "    .dataframe tbody tr th {\n",
              "        vertical-align: top;\n",
              "    }\n",
              "\n",
              "    .dataframe thead th {\n",
              "        text-align: right;\n",
              "    }\n",
              "</style>\n",
              "<table border=\"1\" class=\"dataframe\">\n",
              "  <thead>\n",
              "    <tr style=\"text-align: right;\">\n",
              "      <th></th>\n",
              "      <th>PassengerId</th>\n",
              "      <th>Survived</th>\n",
              "      <th>Pclass</th>\n",
              "      <th>Name</th>\n",
              "      <th>Sex</th>\n",
              "      <th>Age</th>\n",
              "      <th>Ticket</th>\n",
              "      <th>Fare</th>\n",
              "      <th>Cabin</th>\n",
              "      <th>Embarked</th>\n",
              "      <th>Family</th>\n",
              "    </tr>\n",
              "  </thead>\n",
              "  <tbody>\n",
              "    <tr>\n",
              "      <th>65</th>\n",
              "      <td>66</td>\n",
              "      <td>1.0</td>\n",
              "      <td>3</td>\n",
              "      <td>Moubarek, Master. Gerios</td>\n",
              "      <td>male</td>\n",
              "      <td>NaN</td>\n",
              "      <td>2661</td>\n",
              "      <td>15.2458</td>\n",
              "      <td>NaN</td>\n",
              "      <td>C</td>\n",
              "      <td>2</td>\n",
              "    </tr>\n",
              "    <tr>\n",
              "      <th>159</th>\n",
              "      <td>160</td>\n",
              "      <td>0.0</td>\n",
              "      <td>3</td>\n",
              "      <td>Sage, Master. Thomas Henry</td>\n",
              "      <td>male</td>\n",
              "      <td>NaN</td>\n",
              "      <td>CA. 2343</td>\n",
              "      <td>69.5500</td>\n",
              "      <td>NaN</td>\n",
              "      <td>S</td>\n",
              "      <td>10</td>\n",
              "    </tr>\n",
              "    <tr>\n",
              "      <th>176</th>\n",
              "      <td>177</td>\n",
              "      <td>0.0</td>\n",
              "      <td>3</td>\n",
              "      <td>Lefebre, Master. Henry Forbes</td>\n",
              "      <td>male</td>\n",
              "      <td>NaN</td>\n",
              "      <td>4133</td>\n",
              "      <td>25.4667</td>\n",
              "      <td>NaN</td>\n",
              "      <td>S</td>\n",
              "      <td>4</td>\n",
              "    </tr>\n",
              "    <tr>\n",
              "      <th>709</th>\n",
              "      <td>710</td>\n",
              "      <td>1.0</td>\n",
              "      <td>3</td>\n",
              "      <td>Moubarek, Master. Halim Gonios (\"William George\")</td>\n",
              "      <td>male</td>\n",
              "      <td>NaN</td>\n",
              "      <td>2661</td>\n",
              "      <td>15.2458</td>\n",
              "      <td>NaN</td>\n",
              "      <td>C</td>\n",
              "      <td>2</td>\n",
              "    </tr>\n",
              "    <tr>\n",
              "      <th>766</th>\n",
              "      <td>767</td>\n",
              "      <td>0.0</td>\n",
              "      <td>1</td>\n",
              "      <td>Brewe, Dr. Arthur Jackson</td>\n",
              "      <td>male</td>\n",
              "      <td>NaN</td>\n",
              "      <td>112379</td>\n",
              "      <td>39.6000</td>\n",
              "      <td>NaN</td>\n",
              "      <td>C</td>\n",
              "      <td>0</td>\n",
              "    </tr>\n",
              "    <tr>\n",
              "      <th>244</th>\n",
              "      <td>1136</td>\n",
              "      <td>NaN</td>\n",
              "      <td>3</td>\n",
              "      <td>Johnston, Master. William Arthur Willie\"\"</td>\n",
              "      <td>male</td>\n",
              "      <td>NaN</td>\n",
              "      <td>W./C. 6607</td>\n",
              "      <td>23.4500</td>\n",
              "      <td>NaN</td>\n",
              "      <td>S</td>\n",
              "      <td>3</td>\n",
              "    </tr>\n",
              "    <tr>\n",
              "      <th>339</th>\n",
              "      <td>1231</td>\n",
              "      <td>NaN</td>\n",
              "      <td>3</td>\n",
              "      <td>Betros, Master. Seman</td>\n",
              "      <td>male</td>\n",
              "      <td>NaN</td>\n",
              "      <td>2622</td>\n",
              "      <td>7.2292</td>\n",
              "      <td>NaN</td>\n",
              "      <td>C</td>\n",
              "      <td>0</td>\n",
              "    </tr>\n",
              "    <tr>\n",
              "      <th>344</th>\n",
              "      <td>1236</td>\n",
              "      <td>NaN</td>\n",
              "      <td>3</td>\n",
              "      <td>van Billiard, Master. James William</td>\n",
              "      <td>male</td>\n",
              "      <td>NaN</td>\n",
              "      <td>A/5. 851</td>\n",
              "      <td>14.5000</td>\n",
              "      <td>NaN</td>\n",
              "      <td>S</td>\n",
              "      <td>2</td>\n",
              "    </tr>\n",
              "    <tr>\n",
              "      <th>417</th>\n",
              "      <td>1309</td>\n",
              "      <td>NaN</td>\n",
              "      <td>3</td>\n",
              "      <td>Peter, Master. Michael J</td>\n",
              "      <td>male</td>\n",
              "      <td>NaN</td>\n",
              "      <td>2668</td>\n",
              "      <td>22.3583</td>\n",
              "      <td>NaN</td>\n",
              "      <td>C</td>\n",
              "      <td>2</td>\n",
              "    </tr>\n",
              "  </tbody>\n",
              "</table>\n",
              "</div>"
            ],
            "text/plain": [
              "     PassengerId  Survived  Pclass  ... Cabin Embarked  Family\n",
              "65            66       1.0       3  ...   NaN        C       2\n",
              "159          160       0.0       3  ...   NaN        S      10\n",
              "176          177       0.0       3  ...   NaN        S       4\n",
              "709          710       1.0       3  ...   NaN        C       2\n",
              "766          767       0.0       1  ...   NaN        C       0\n",
              "244         1136       NaN       3  ...   NaN        S       3\n",
              "339         1231       NaN       3  ...   NaN        C       0\n",
              "344         1236       NaN       3  ...   NaN        S       2\n",
              "417         1309       NaN       3  ...   NaN        C       2\n",
              "\n",
              "[9 rows x 11 columns]"
            ]
          },
          "metadata": {
            "tags": []
          },
          "execution_count": 77
        }
      ]
    },
    {
      "cell_type": "code",
      "metadata": {
        "id": "Y-13OMNMNseC",
        "colab_type": "code",
        "colab": {}
      },
      "source": [
        "mask = (x_train['Age'].isnull()) & (x_train['Name'].str.contains('Master\\.'))\n",
        "mask2 = (x_train['Name'].str.contains('Master\\.'))\n",
        "x_train.loc[mask,'Age'] = x_train.loc[mask,'Age'].fillna(x_train.loc[mask2,'Age'].median())"
      ],
      "execution_count": 0,
      "outputs": []
    },
    {
      "cell_type": "code",
      "metadata": {
        "id": "_5DHvc70O03S",
        "colab_type": "code",
        "colab": {}
      },
      "source": [
        "mask = (x_train['Age'].isnull()) & (x_train['Name'].str.contains('Dr\\.'))\n",
        "mask2 = (x_train['Name'].str.contains('Dr\\.'))\n",
        "x_train.loc[mask,'Age'] = x_train.loc[mask,'Age'].fillna(x_train.loc[mask2,'Age'].median())"
      ],
      "execution_count": 0,
      "outputs": []
    },
    {
      "cell_type": "code",
      "metadata": {
        "id": "jxs8mdxHQpzN",
        "colab_type": "code",
        "outputId": "074f7231-15dc-4596-ec54-2bb3f7456f41",
        "colab": {
          "base_uri": "https://localhost:8080/",
          "height": 318
        }
      },
      "source": [
        "x_train.info()"
      ],
      "execution_count": 20,
      "outputs": [
        {
          "output_type": "stream",
          "text": [
            "<class 'pandas.core.frame.DataFrame'>\n",
            "Int64Index: 1309 entries, 0 to 417\n",
            "Data columns (total 11 columns):\n",
            " #   Column       Non-Null Count  Dtype  \n",
            "---  ------       --------------  -----  \n",
            " 0   PassengerId  1309 non-null   int64  \n",
            " 1   Survived     891 non-null    float64\n",
            " 2   Pclass       1309 non-null   int64  \n",
            " 3   Name         1309 non-null   object \n",
            " 4   Sex          1309 non-null   object \n",
            " 5   Age          1309 non-null   float64\n",
            " 6   Ticket       1309 non-null   object \n",
            " 7   Fare         1308 non-null   float64\n",
            " 8   Cabin        295 non-null    object \n",
            " 9   Embarked     1307 non-null   object \n",
            " 10  Family       1309 non-null   int64  \n",
            "dtypes: float64(3), int64(3), object(5)\n",
            "memory usage: 122.7+ KB\n"
          ],
          "name": "stdout"
        }
      ]
    },
    {
      "cell_type": "markdown",
      "metadata": {
        "id": "mkF-4pe9Q_oC",
        "colab_type": "text"
      },
      "source": [
        "把處理Age的程式集中為一個function"
      ]
    },
    {
      "cell_type": "code",
      "metadata": {
        "id": "x0sfL4K_Q9dB",
        "colab_type": "code",
        "colab": {}
      },
      "source": [
        "def fill_Age():\n",
        "  global x_train\n",
        "  \n",
        "  # Ms. or Miss. or Mrs.\n",
        "  mask = (x_train['Age'].isnull()) & ((x_train['Name'].str.contains('Ms\\.')) | (x_train['Name'].str.contains('Miss\\.')) | (x_train['Name'].str.contains('Mrs\\.')))\n",
        "  mask2 = ((x_train['Name'].str.contains('Ms\\.')) | (x_train['Name'].str.contains('Miss\\.')) | (x_train['Name'].str.contains('Mrs\\.')))\n",
        "  x_train.loc[mask,'Age'] = x_train.loc[mask,'Age'].fillna(x_train.loc[mask2,'Age'].mean()) \n",
        "  \n",
        "  # Mr. or Sir. or Major\n",
        "  mask = (x_train['Age'].isnull()) & ((x_train['Name'].str.contains('Mr\\.')) | (x_train['Name'].str.contains('Sir\\.')) | (x_train['Name'].str.contains('Major')) )\n",
        "  mask2 = ((x_train['Name'].str.contains('Mr\\.')) | (x_train['Name'].str.contains('Sir\\.')) | (x_train['Name'].str.contains('Major')) )\n",
        "  x_train.loc[mask,'Age'] = x_train.loc[mask,'Age'].fillna(x_train.loc[mask2,'Age'].median())\n",
        "  \n",
        "  # Master.\n",
        "  mask = (x_train['Age'].isnull()) & (x_train['Name'].str.contains('Master\\.'))\n",
        "  mask2 = (x_train['Name'].str.contains('Master\\.'))\n",
        "  x_train.loc[mask,'Age'] = x_train.loc[mask,'Age'].fillna(x_train.loc[mask2,'Age'].median())\n",
        "  \n",
        "  # Dr.\n",
        "  mask = (x_train['Age'].isnull()) & (x_train['Name'].str.contains('Dr\\.'))\n",
        "  mask2 = (x_train['Name'].str.contains('Dr\\.'))\n",
        "  x_train.loc[mask,'Age'] = x_train.loc[mask,'Age'].fillna(x_train.loc[mask2,'Age'].median())"
      ],
      "execution_count": 0,
      "outputs": []
    },
    {
      "cell_type": "code",
      "metadata": {
        "id": "dO38uU90jgJP",
        "colab_type": "code",
        "colab": {}
      },
      "source": [
        "fill_Age()"
      ],
      "execution_count": 0,
      "outputs": []
    },
    {
      "cell_type": "markdown",
      "metadata": {
        "id": "6YNodzGESW1u",
        "colab_type": "text"
      },
      "source": [
        "處理船票價格\n",
        "直接用中位數填滿缺失的船票價格"
      ]
    },
    {
      "cell_type": "code",
      "metadata": {
        "id": "3kim29lRTP7j",
        "colab_type": "code",
        "outputId": "446234a4-d02b-4f83-cf9f-5e18b56efda8",
        "colab": {
          "base_uri": "https://localhost:8080/",
          "height": 47
        }
      },
      "source": [
        "x_train[x_train['Fare'].isnull()]"
      ],
      "execution_count": 50,
      "outputs": [
        {
          "output_type": "execute_result",
          "data": {
            "text/html": [
              "<div>\n",
              "<style scoped>\n",
              "    .dataframe tbody tr th:only-of-type {\n",
              "        vertical-align: middle;\n",
              "    }\n",
              "\n",
              "    .dataframe tbody tr th {\n",
              "        vertical-align: top;\n",
              "    }\n",
              "\n",
              "    .dataframe thead th {\n",
              "        text-align: right;\n",
              "    }\n",
              "</style>\n",
              "<table border=\"1\" class=\"dataframe\">\n",
              "  <thead>\n",
              "    <tr style=\"text-align: right;\">\n",
              "      <th></th>\n",
              "      <th>PassengerId</th>\n",
              "      <th>Survived</th>\n",
              "      <th>Pclass</th>\n",
              "      <th>Name</th>\n",
              "      <th>Sex</th>\n",
              "      <th>Age</th>\n",
              "      <th>Ticket</th>\n",
              "      <th>Fare</th>\n",
              "      <th>Cabin</th>\n",
              "      <th>Embarked</th>\n",
              "      <th>Family</th>\n",
              "    </tr>\n",
              "  </thead>\n",
              "  <tbody>\n",
              "  </tbody>\n",
              "</table>\n",
              "</div>"
            ],
            "text/plain": [
              "Empty DataFrame\n",
              "Columns: [PassengerId, Survived, Pclass, Name, Sex, Age, Ticket, Fare, Cabin, Embarked, Family]\n",
              "Index: []"
            ]
          },
          "metadata": {
            "tags": []
          },
          "execution_count": 50
        }
      ]
    },
    {
      "cell_type": "code",
      "metadata": {
        "id": "kktO9AuaHkqR",
        "colab_type": "code",
        "colab": {}
      },
      "source": [
        "def fill_Fare():\n",
        "  x_train['Fare'].fillna(x_train['Fare'].median(),inplace=True)"
      ],
      "execution_count": 0,
      "outputs": []
    },
    {
      "cell_type": "code",
      "metadata": {
        "id": "25hZhTFEVHOX",
        "colab_type": "code",
        "colab": {}
      },
      "source": [
        "fill_Fare()\n",
        "#x_train[x_train['PassengerId']==1044]\n",
        "#x_train['Fare']"
      ],
      "execution_count": 0,
      "outputs": []
    },
    {
      "cell_type": "code",
      "metadata": {
        "id": "ArvAGr3nCShP",
        "colab_type": "code",
        "colab": {}
      },
      "source": [
        "def fill_Embarked():\n",
        "  x_train['Embarked'].fillna('C',inplace=True)"
      ],
      "execution_count": 0,
      "outputs": []
    },
    {
      "cell_type": "code",
      "metadata": {
        "id": "HEStSWgejsMd",
        "colab_type": "code",
        "colab": {}
      },
      "source": [
        "fill_Embarked()"
      ],
      "execution_count": 0,
      "outputs": []
    },
    {
      "cell_type": "code",
      "metadata": {
        "id": "i1pPPoBHHYfa",
        "colab_type": "code",
        "colab": {
          "base_uri": "https://localhost:8080/",
          "height": 166
        },
        "outputId": "261f0ed1-b823-431d-8b4d-ec6e96e1d2ee"
      },
      "source": [
        "x_train.describe(include='O')"
      ],
      "execution_count": 88,
      "outputs": [
        {
          "output_type": "execute_result",
          "data": {
            "text/html": [
              "<div>\n",
              "<style scoped>\n",
              "    .dataframe tbody tr th:only-of-type {\n",
              "        vertical-align: middle;\n",
              "    }\n",
              "\n",
              "    .dataframe tbody tr th {\n",
              "        vertical-align: top;\n",
              "    }\n",
              "\n",
              "    .dataframe thead th {\n",
              "        text-align: right;\n",
              "    }\n",
              "</style>\n",
              "<table border=\"1\" class=\"dataframe\">\n",
              "  <thead>\n",
              "    <tr style=\"text-align: right;\">\n",
              "      <th></th>\n",
              "      <th>Name</th>\n",
              "      <th>Sex</th>\n",
              "      <th>Ticket</th>\n",
              "      <th>Cabin</th>\n",
              "      <th>Embarked</th>\n",
              "    </tr>\n",
              "  </thead>\n",
              "  <tbody>\n",
              "    <tr>\n",
              "      <th>count</th>\n",
              "      <td>1309</td>\n",
              "      <td>1309</td>\n",
              "      <td>1309</td>\n",
              "      <td>295</td>\n",
              "      <td>1309</td>\n",
              "    </tr>\n",
              "    <tr>\n",
              "      <th>unique</th>\n",
              "      <td>1307</td>\n",
              "      <td>2</td>\n",
              "      <td>929</td>\n",
              "      <td>186</td>\n",
              "      <td>3</td>\n",
              "    </tr>\n",
              "    <tr>\n",
              "      <th>top</th>\n",
              "      <td>Kelly, Mr. James</td>\n",
              "      <td>male</td>\n",
              "      <td>CA. 2343</td>\n",
              "      <td>C23 C25 C27</td>\n",
              "      <td>S</td>\n",
              "    </tr>\n",
              "    <tr>\n",
              "      <th>freq</th>\n",
              "      <td>2</td>\n",
              "      <td>843</td>\n",
              "      <td>11</td>\n",
              "      <td>6</td>\n",
              "      <td>914</td>\n",
              "    </tr>\n",
              "  </tbody>\n",
              "</table>\n",
              "</div>"
            ],
            "text/plain": [
              "                    Name   Sex    Ticket        Cabin Embarked\n",
              "count               1309  1309      1309          295     1309\n",
              "unique              1307     2       929          186        3\n",
              "top     Kelly, Mr. James  male  CA. 2343  C23 C25 C27        S\n",
              "freq                   2   843        11            6      914"
            ]
          },
          "metadata": {
            "tags": []
          },
          "execution_count": 88
        }
      ]
    },
    {
      "cell_type": "code",
      "metadata": {
        "id": "5NTwddloY8Vg",
        "colab_type": "code",
        "colab": {
          "base_uri": "https://localhost:8080/",
          "height": 454
        },
        "outputId": "5a9ebaa5-870d-4712-bfd0-4b82f00fc82d"
      },
      "source": [
        "x_train[(x_train['Cabin'].isnull()) & (x_train['Survived'].isnull())]"
      ],
      "execution_count": 61,
      "outputs": [
        {
          "output_type": "execute_result",
          "data": {
            "text/html": [
              "<div>\n",
              "<style scoped>\n",
              "    .dataframe tbody tr th:only-of-type {\n",
              "        vertical-align: middle;\n",
              "    }\n",
              "\n",
              "    .dataframe tbody tr th {\n",
              "        vertical-align: top;\n",
              "    }\n",
              "\n",
              "    .dataframe thead th {\n",
              "        text-align: right;\n",
              "    }\n",
              "</style>\n",
              "<table border=\"1\" class=\"dataframe\">\n",
              "  <thead>\n",
              "    <tr style=\"text-align: right;\">\n",
              "      <th></th>\n",
              "      <th>PassengerId</th>\n",
              "      <th>Survived</th>\n",
              "      <th>Pclass</th>\n",
              "      <th>Name</th>\n",
              "      <th>Sex</th>\n",
              "      <th>Age</th>\n",
              "      <th>Ticket</th>\n",
              "      <th>Fare</th>\n",
              "      <th>Cabin</th>\n",
              "      <th>Embarked</th>\n",
              "      <th>Family</th>\n",
              "    </tr>\n",
              "  </thead>\n",
              "  <tbody>\n",
              "    <tr>\n",
              "      <th>0</th>\n",
              "      <td>892</td>\n",
              "      <td>NaN</td>\n",
              "      <td>3</td>\n",
              "      <td>Kelly, Mr. James</td>\n",
              "      <td>male</td>\n",
              "      <td>34.5</td>\n",
              "      <td>330911</td>\n",
              "      <td>7.8292</td>\n",
              "      <td>NaN</td>\n",
              "      <td>Q</td>\n",
              "      <td>0</td>\n",
              "    </tr>\n",
              "    <tr>\n",
              "      <th>1</th>\n",
              "      <td>893</td>\n",
              "      <td>NaN</td>\n",
              "      <td>3</td>\n",
              "      <td>Wilkes, Mrs. James (Ellen Needs)</td>\n",
              "      <td>female</td>\n",
              "      <td>47.0</td>\n",
              "      <td>363272</td>\n",
              "      <td>7.0000</td>\n",
              "      <td>NaN</td>\n",
              "      <td>S</td>\n",
              "      <td>1</td>\n",
              "    </tr>\n",
              "    <tr>\n",
              "      <th>2</th>\n",
              "      <td>894</td>\n",
              "      <td>NaN</td>\n",
              "      <td>2</td>\n",
              "      <td>Myles, Mr. Thomas Francis</td>\n",
              "      <td>male</td>\n",
              "      <td>62.0</td>\n",
              "      <td>240276</td>\n",
              "      <td>9.6875</td>\n",
              "      <td>NaN</td>\n",
              "      <td>Q</td>\n",
              "      <td>0</td>\n",
              "    </tr>\n",
              "    <tr>\n",
              "      <th>3</th>\n",
              "      <td>895</td>\n",
              "      <td>NaN</td>\n",
              "      <td>3</td>\n",
              "      <td>Wirz, Mr. Albert</td>\n",
              "      <td>male</td>\n",
              "      <td>27.0</td>\n",
              "      <td>315154</td>\n",
              "      <td>8.6625</td>\n",
              "      <td>NaN</td>\n",
              "      <td>S</td>\n",
              "      <td>0</td>\n",
              "    </tr>\n",
              "    <tr>\n",
              "      <th>4</th>\n",
              "      <td>896</td>\n",
              "      <td>NaN</td>\n",
              "      <td>3</td>\n",
              "      <td>Hirvonen, Mrs. Alexander (Helga E Lindqvist)</td>\n",
              "      <td>female</td>\n",
              "      <td>22.0</td>\n",
              "      <td>3101298</td>\n",
              "      <td>12.2875</td>\n",
              "      <td>NaN</td>\n",
              "      <td>S</td>\n",
              "      <td>2</td>\n",
              "    </tr>\n",
              "    <tr>\n",
              "      <th>...</th>\n",
              "      <td>...</td>\n",
              "      <td>...</td>\n",
              "      <td>...</td>\n",
              "      <td>...</td>\n",
              "      <td>...</td>\n",
              "      <td>...</td>\n",
              "      <td>...</td>\n",
              "      <td>...</td>\n",
              "      <td>...</td>\n",
              "      <td>...</td>\n",
              "      <td>...</td>\n",
              "    </tr>\n",
              "    <tr>\n",
              "      <th>412</th>\n",
              "      <td>1304</td>\n",
              "      <td>NaN</td>\n",
              "      <td>3</td>\n",
              "      <td>Henriksson, Miss. Jenny Lovisa</td>\n",
              "      <td>female</td>\n",
              "      <td>28.0</td>\n",
              "      <td>347086</td>\n",
              "      <td>7.7750</td>\n",
              "      <td>NaN</td>\n",
              "      <td>S</td>\n",
              "      <td>0</td>\n",
              "    </tr>\n",
              "    <tr>\n",
              "      <th>413</th>\n",
              "      <td>1305</td>\n",
              "      <td>NaN</td>\n",
              "      <td>3</td>\n",
              "      <td>Spector, Mr. Woolf</td>\n",
              "      <td>male</td>\n",
              "      <td>29.0</td>\n",
              "      <td>A.5. 3236</td>\n",
              "      <td>8.0500</td>\n",
              "      <td>NaN</td>\n",
              "      <td>S</td>\n",
              "      <td>0</td>\n",
              "    </tr>\n",
              "    <tr>\n",
              "      <th>415</th>\n",
              "      <td>1307</td>\n",
              "      <td>NaN</td>\n",
              "      <td>3</td>\n",
              "      <td>Saether, Mr. Simon Sivertsen</td>\n",
              "      <td>male</td>\n",
              "      <td>38.5</td>\n",
              "      <td>SOTON/O.Q. 3101262</td>\n",
              "      <td>7.2500</td>\n",
              "      <td>NaN</td>\n",
              "      <td>S</td>\n",
              "      <td>0</td>\n",
              "    </tr>\n",
              "    <tr>\n",
              "      <th>416</th>\n",
              "      <td>1308</td>\n",
              "      <td>NaN</td>\n",
              "      <td>3</td>\n",
              "      <td>Ware, Mr. Frederick</td>\n",
              "      <td>male</td>\n",
              "      <td>29.0</td>\n",
              "      <td>359309</td>\n",
              "      <td>8.0500</td>\n",
              "      <td>NaN</td>\n",
              "      <td>S</td>\n",
              "      <td>0</td>\n",
              "    </tr>\n",
              "    <tr>\n",
              "      <th>417</th>\n",
              "      <td>1309</td>\n",
              "      <td>NaN</td>\n",
              "      <td>3</td>\n",
              "      <td>Peter, Master. Michael J</td>\n",
              "      <td>male</td>\n",
              "      <td>4.0</td>\n",
              "      <td>2668</td>\n",
              "      <td>22.3583</td>\n",
              "      <td>NaN</td>\n",
              "      <td>C</td>\n",
              "      <td>2</td>\n",
              "    </tr>\n",
              "  </tbody>\n",
              "</table>\n",
              "<p>327 rows × 11 columns</p>\n",
              "</div>"
            ],
            "text/plain": [
              "     PassengerId  Survived  Pclass  ... Cabin Embarked  Family\n",
              "0            892       NaN       3  ...   NaN        Q       0\n",
              "1            893       NaN       3  ...   NaN        S       1\n",
              "2            894       NaN       2  ...   NaN        Q       0\n",
              "3            895       NaN       3  ...   NaN        S       0\n",
              "4            896       NaN       3  ...   NaN        S       2\n",
              "..           ...       ...     ...  ...   ...      ...     ...\n",
              "412         1304       NaN       3  ...   NaN        S       0\n",
              "413         1305       NaN       3  ...   NaN        S       0\n",
              "415         1307       NaN       3  ...   NaN        S       0\n",
              "416         1308       NaN       3  ...   NaN        S       0\n",
              "417         1309       NaN       3  ...   NaN        C       2\n",
              "\n",
              "[327 rows x 11 columns]"
            ]
          },
          "metadata": {
            "tags": []
          },
          "execution_count": 61
        }
      ]
    },
    {
      "cell_type": "markdown",
      "metadata": {
        "id": "lPo_WDgXc-Lc",
        "colab_type": "text"
      },
      "source": [
        "死亡->Cabin='G'\n",
        "\n",
        "存活->Cabin='B'\n",
        "\n",
        "Survived=NA & Pclass=1 ->Cabin='B'\n",
        "\n",
        "Survived=NA & Pclass=2 ->Cabin='F'\n",
        "\n",
        "Survived=NA & Pclass=3 ->Cabin='G'"
      ]
    },
    {
      "cell_type": "code",
      "metadata": {
        "id": "kP2ZHo2uf6Xp",
        "colab_type": "code",
        "colab": {}
      },
      "source": [
        "def fill_Cabin():\n",
        "  mask = (x_train['Survived']==0) & (x_train['Cabin'].isnull())\n",
        "  x_train.loc[mask,'Cabin'] = 'G'\n",
        "\n",
        "  mask = (x_train['Survived']==1) & (x_train['Cabin'].isnull())\n",
        "  x_train.loc[mask,'Cabin'] = 'B'\n",
        "\n",
        "  mask = (x_train['Survived'].isnull()) & (x_train['Cabin'].isnull()) & (x_train['Pclass']==1)\n",
        "  x_train.loc[mask,'Cabin'] = 'B'\n",
        "\n",
        "  mask = (x_train['Survived'].isnull()) & (x_train['Cabin'].isnull()) & (x_train['Pclass']==2)\n",
        "  x_train.loc[mask,'Cabin'] = 'F'\n",
        "\n",
        "  mask = (x_train['Survived'].isnull()) & (x_train['Cabin'].isnull()) & (x_train['Pclass']==3)\n",
        "  x_train.loc[mask,'Cabin'] = 'G'"
      ],
      "execution_count": 0,
      "outputs": []
    },
    {
      "cell_type": "code",
      "metadata": {
        "id": "2TyF7aFmgFC3",
        "colab_type": "code",
        "colab": {}
      },
      "source": [
        "fill_Cabin()"
      ],
      "execution_count": 0,
      "outputs": []
    },
    {
      "cell_type": "code",
      "metadata": {
        "id": "_6bQbh6OkKso",
        "colab_type": "code",
        "colab": {
          "base_uri": "https://localhost:8080/",
          "height": 217
        },
        "outputId": "60b772ac-9a8d-4a2d-8dd7-d0cbe2571102"
      },
      "source": [
        "x_train['Ticket'].str.extract('([a-zA-Z]*)',expand=False).str.upper()"
      ],
      "execution_count": 94,
      "outputs": [
        {
          "output_type": "execute_result",
          "data": {
            "text/plain": [
              "0          A\n",
              "1         PC\n",
              "2       STON\n",
              "3           \n",
              "4           \n",
              "       ...  \n",
              "413        A\n",
              "414       PC\n",
              "415    SOTON\n",
              "416         \n",
              "417         \n",
              "Name: Ticket, Length: 1309, dtype: object"
            ]
          },
          "metadata": {
            "tags": []
          },
          "execution_count": 94
        }
      ]
    },
    {
      "cell_type": "markdown",
      "metadata": {
        "id": "-ZJL-rkblLx9",
        "colab_type": "text"
      },
      "source": [
        "若Ticket編號為字母加上編號 -> 則取字母部份\n",
        "\n",
        "若Ticket編號只有數字 ->則取空字串"
      ]
    },
    {
      "cell_type": "code",
      "metadata": {
        "id": "esC16tTllC8H",
        "colab_type": "code",
        "colab": {}
      },
      "source": [
        "def fill_Ticket():\n",
        "  global x_train\n",
        "  x_train['Ticket'] = x_train['Ticket'].str.extract('([a-zA-Z]*)',expand=False).str.upper()"
      ],
      "execution_count": 0,
      "outputs": []
    },
    {
      "cell_type": "code",
      "metadata": {
        "id": "ApNZvUV9lE6c",
        "colab_type": "code",
        "colab": {}
      },
      "source": [
        "fill_Ticket()"
      ],
      "execution_count": 0,
      "outputs": []
    },
    {
      "cell_type": "code",
      "metadata": {
        "id": "iNjyarVOieaO",
        "colab_type": "code",
        "colab": {
          "base_uri": "https://localhost:8080/",
          "height": 166
        },
        "outputId": "b5fa5755-12b6-4715-fb86-1ac6a59c5c63"
      },
      "source": [
        "x_train.describe(include='O')"
      ],
      "execution_count": 98,
      "outputs": [
        {
          "output_type": "execute_result",
          "data": {
            "text/html": [
              "<div>\n",
              "<style scoped>\n",
              "    .dataframe tbody tr th:only-of-type {\n",
              "        vertical-align: middle;\n",
              "    }\n",
              "\n",
              "    .dataframe tbody tr th {\n",
              "        vertical-align: top;\n",
              "    }\n",
              "\n",
              "    .dataframe thead th {\n",
              "        text-align: right;\n",
              "    }\n",
              "</style>\n",
              "<table border=\"1\" class=\"dataframe\">\n",
              "  <thead>\n",
              "    <tr style=\"text-align: right;\">\n",
              "      <th></th>\n",
              "      <th>Name</th>\n",
              "      <th>Sex</th>\n",
              "      <th>Ticket</th>\n",
              "      <th>Cabin</th>\n",
              "      <th>Embarked</th>\n",
              "    </tr>\n",
              "  </thead>\n",
              "  <tbody>\n",
              "    <tr>\n",
              "      <th>count</th>\n",
              "      <td>1309</td>\n",
              "      <td>1309</td>\n",
              "      <td>1309</td>\n",
              "      <td>1309</td>\n",
              "      <td>1309</td>\n",
              "    </tr>\n",
              "    <tr>\n",
              "      <th>unique</th>\n",
              "      <td>1307</td>\n",
              "      <td>2</td>\n",
              "      <td>21</td>\n",
              "      <td>188</td>\n",
              "      <td>3</td>\n",
              "    </tr>\n",
              "    <tr>\n",
              "      <th>top</th>\n",
              "      <td>Kelly, Mr. James</td>\n",
              "      <td>male</td>\n",
              "      <td></td>\n",
              "      <td>G</td>\n",
              "      <td>S</td>\n",
              "    </tr>\n",
              "    <tr>\n",
              "      <th>freq</th>\n",
              "      <td>2</td>\n",
              "      <td>843</td>\n",
              "      <td>957</td>\n",
              "      <td>695</td>\n",
              "      <td>914</td>\n",
              "    </tr>\n",
              "  </tbody>\n",
              "</table>\n",
              "</div>"
            ],
            "text/plain": [
              "                    Name   Sex Ticket Cabin Embarked\n",
              "count               1309  1309   1309  1309     1309\n",
              "unique              1307     2     21   188        3\n",
              "top     Kelly, Mr. James  male            G        S\n",
              "freq                   2   843    957   695      914"
            ]
          },
          "metadata": {
            "tags": []
          },
          "execution_count": 98
        }
      ]
    },
    {
      "cell_type": "code",
      "metadata": {
        "id": "puWu7oFgl44J",
        "colab_type": "code",
        "colab": {
          "base_uri": "https://localhost:8080/",
          "height": 50
        },
        "outputId": "80918f41-8e4b-4e5d-a135-1785eb6cf3e2"
      },
      "source": [
        "print(x_train['Ticket'].unique())"
      ],
      "execution_count": 99,
      "outputs": [
        {
          "output_type": "stream",
          "text": [
            "['A' 'PC' 'STON' '' 'PP' 'C' 'SC' 'S' 'CA' 'SO' 'W' 'SOTON' 'FA' 'LINE'\n",
            " 'F' 'SW' 'SCO' 'P' 'WE' 'AQ' 'LP']\n"
          ],
          "name": "stdout"
        }
      ]
    },
    {
      "cell_type": "markdown",
      "metadata": {
        "id": "S4gAIqdvnnsT",
        "colab_type": "text"
      },
      "source": [
        "新增Title欄位:將Name欄位中的稱謂，單獨取出新增為Title欄位，若無任何稱謂，則取年紀來判斷，給予一個合適的稱謂"
      ]
    },
    {
      "cell_type": "code",
      "metadata": {
        "id": "QCLFO2B-pIiw",
        "colab_type": "code",
        "colab": {}
      },
      "source": [
        "def fill_Title():\n",
        "  global x_train\n",
        "  for typeName in ['Ms\\.','Miss\\.','Mr\\.','Sir\\.','Major','Dr\\.','Master\\.','Mme\\.']:\n",
        "    mask = (x_train['Name'].str.contains(typeName))\n",
        "    replaceTitle = typeName.replace('\\\\','')\n",
        "    if(typeName=='Mme\\.'):\n",
        "      replaceTitle = 'Ms.'\n",
        "    x_train.loc[mask,'Title'] = replaceTitle #add a new column ('Title)\n",
        "    \n",
        "  mask = (x_train['Title'].isnull()) & (x_train['Age']<14) & (x_train['Sex']=='male')\n",
        "  x_train.loc[mask,'Title'] = 'Master.'\n",
        "\n",
        "  mask = (x_train['Title'].isnull()) & (x_train['Age']>13) & (x_train['Sex']=='male')\n",
        "  x_train.loc[mask,'Title'] = 'Mr.'\n",
        "\n",
        "  mask = (x_train['Title'].isnull()) & (x_train['Sex']=='female')\n",
        "  x_train.loc[mask,'Title'] = 'Miss.'"
      ],
      "execution_count": 0,
      "outputs": []
    },
    {
      "cell_type": "code",
      "metadata": {
        "id": "RWArXE16rKPz",
        "colab_type": "code",
        "colab": {}
      },
      "source": [
        "fill_Title()"
      ],
      "execution_count": 0,
      "outputs": []
    },
    {
      "cell_type": "code",
      "metadata": {
        "id": "OYLgvKQRrUEm",
        "colab_type": "code",
        "colab": {
          "base_uri": "https://localhost:8080/",
          "height": 50
        },
        "outputId": "1532ed20-af58-4a9d-d41e-defd4121beb1"
      },
      "source": [
        "x_train['Title'].unique()"
      ],
      "execution_count": 118,
      "outputs": [
        {
          "output_type": "execute_result",
          "data": {
            "text/plain": [
              "array(['Mr.', 'Miss.', 'Master.', 'Dr.', 'Ms.', 'Major', 'Sir.'],\n",
              "      dtype=object)"
            ]
          },
          "metadata": {
            "tags": []
          },
          "execution_count": 118
        }
      ]
    },
    {
      "cell_type": "code",
      "metadata": {
        "id": "p9zr9Giwrp34",
        "colab_type": "code",
        "colab": {
          "base_uri": "https://localhost:8080/",
          "height": 166
        },
        "outputId": "db16952f-4b08-4005-a643-21d707d174f2"
      },
      "source": [
        "x_train.describe(include='O')"
      ],
      "execution_count": 122,
      "outputs": [
        {
          "output_type": "execute_result",
          "data": {
            "text/html": [
              "<div>\n",
              "<style scoped>\n",
              "    .dataframe tbody tr th:only-of-type {\n",
              "        vertical-align: middle;\n",
              "    }\n",
              "\n",
              "    .dataframe tbody tr th {\n",
              "        vertical-align: top;\n",
              "    }\n",
              "\n",
              "    .dataframe thead th {\n",
              "        text-align: right;\n",
              "    }\n",
              "</style>\n",
              "<table border=\"1\" class=\"dataframe\">\n",
              "  <thead>\n",
              "    <tr style=\"text-align: right;\">\n",
              "      <th></th>\n",
              "      <th>Sex</th>\n",
              "      <th>Ticket</th>\n",
              "      <th>Cabin</th>\n",
              "      <th>Embarked</th>\n",
              "      <th>Title</th>\n",
              "    </tr>\n",
              "  </thead>\n",
              "  <tbody>\n",
              "    <tr>\n",
              "      <th>count</th>\n",
              "      <td>1309</td>\n",
              "      <td>1309</td>\n",
              "      <td>1309</td>\n",
              "      <td>1309</td>\n",
              "      <td>1309</td>\n",
              "    </tr>\n",
              "    <tr>\n",
              "      <th>unique</th>\n",
              "      <td>2</td>\n",
              "      <td>21</td>\n",
              "      <td>188</td>\n",
              "      <td>3</td>\n",
              "      <td>7</td>\n",
              "    </tr>\n",
              "    <tr>\n",
              "      <th>top</th>\n",
              "      <td>male</td>\n",
              "      <td></td>\n",
              "      <td>G</td>\n",
              "      <td>S</td>\n",
              "      <td>Mr.</td>\n",
              "    </tr>\n",
              "    <tr>\n",
              "      <th>freq</th>\n",
              "      <td>843</td>\n",
              "      <td>957</td>\n",
              "      <td>695</td>\n",
              "      <td>914</td>\n",
              "      <td>772</td>\n",
              "    </tr>\n",
              "  </tbody>\n",
              "</table>\n",
              "</div>"
            ],
            "text/plain": [
              "         Sex Ticket Cabin Embarked Title\n",
              "count   1309   1309  1309     1309  1309\n",
              "unique     2     21   188        3     7\n",
              "top     male            G        S   Mr.\n",
              "freq     843    957   695      914   772"
            ]
          },
          "metadata": {
            "tags": []
          },
          "execution_count": 122
        }
      ]
    },
    {
      "cell_type": "code",
      "metadata": {
        "id": "nCydIZHEuBpw",
        "colab_type": "code",
        "colab": {}
      },
      "source": [
        "x_train.drop('Name',axis=1,inplace=True)"
      ],
      "execution_count": 0,
      "outputs": []
    },
    {
      "cell_type": "markdown",
      "metadata": {
        "id": "hfCHS-2MuhwM",
        "colab_type": "text"
      },
      "source": [
        "最後要將所有非\"數值\"Categories型態欄位進行\n",
        "\n",
        "#One-Hot Encoding\n",
        "\n",
        "才能送給機器進行學習，這些屬於類別型態的欄位有:Sex、Pclass、Ticket、Cabin、Embarked、Title"
      ]
    },
    {
      "cell_type": "code",
      "metadata": {
        "id": "CQeP0KUzufeF",
        "colab_type": "code",
        "colab": {}
      },
      "source": [
        ""
      ],
      "execution_count": 0,
      "outputs": []
    }
  ]
}