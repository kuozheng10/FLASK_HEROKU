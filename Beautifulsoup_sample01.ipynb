{
  "nbformat": 4,
  "nbformat_minor": 0,
  "metadata": {
    "colab": {
      "name": "Untitled3.ipynb",
      "provenance": [],
      "collapsed_sections": [],
      "authorship_tag": "ABX9TyNfUIo6T6ibua5yLEXub8hE",
      "include_colab_link": true
    },
    "kernelspec": {
      "name": "python3",
      "display_name": "Python 3"
    }
  },
  "cells": [
    {
      "cell_type": "markdown",
      "metadata": {
        "id": "view-in-github",
        "colab_type": "text"
      },
      "source": [
        "<a href=\"https://colab.research.google.com/github/kuozheng10/FLASK_HEROKU/blob/master/Beautifulsoup_sample01.ipynb\" target=\"_parent\"><img src=\"https://colab.research.google.com/assets/colab-badge.svg\" alt=\"Open In Colab\"/></a>"
      ]
    },
    {
      "cell_type": "code",
      "metadata": {
        "id": "2yi9MvOCv6sP",
        "colab_type": "code",
        "colab": {}
      },
      "source": [
        "import requests\n",
        "from bs4 import BeautifulSoup"
      ],
      "execution_count": 0,
      "outputs": []
    },
    {
      "cell_type": "code",
      "metadata": {
        "id": "_d5CH8kOwLbp",
        "colab_type": "code",
        "colab": {}
      },
      "source": [
        "url = 'https://abfunds.thenewslens.com/Global_24.html'"
      ],
      "execution_count": 0,
      "outputs": []
    },
    {
      "cell_type": "code",
      "metadata": {
        "id": "-xPvOpgKwVoJ",
        "colab_type": "code",
        "colab": {}
      },
      "source": [
        "r = requests.get(url)"
      ],
      "execution_count": 0,
      "outputs": []
    },
    {
      "cell_type": "code",
      "metadata": {
        "id": "z41bWozcwb3K",
        "colab_type": "code",
        "colab": {}
      },
      "source": [
        "soup = BeautifulSoup(r.text)"
      ],
      "execution_count": 0,
      "outputs": []
    },
    {
      "cell_type": "markdown",
      "metadata": {
        "id": "ausEVoH_7eri",
        "colab_type": "text"
      },
      "source": [
        "找到一個開始的標籤"
      ]
    },
    {
      "cell_type": "code",
      "metadata": {
        "id": "MsZMzCcDwsJS",
        "colab_type": "code",
        "outputId": "b7e25053-1231-4c8f-f6d2-34a8e4de9c89",
        "colab": {
          "base_uri": "https://localhost:8080/",
          "height": 35
        }
      },
      "source": [
        "soup('h4',text='政策的影響')"
      ],
      "execution_count": 0,
      "outputs": [
        {
          "output_type": "execute_result",
          "data": {
            "text/plain": [
              "[<h4>政策的影響</h4>]"
            ]
          },
          "metadata": {
            "tags": []
          },
          "execution_count": 5
        }
      ]
    },
    {
      "cell_type": "code",
      "metadata": {
        "id": "346c-CK0yilD",
        "colab_type": "code",
        "colab": {}
      },
      "source": [
        "start_tag = soup('h4',text='政策的影響')[0]"
      ],
      "execution_count": 0,
      "outputs": []
    },
    {
      "cell_type": "code",
      "metadata": {
        "id": "pPvhGagryzPR",
        "colab_type": "code",
        "colab": {
          "base_uri": "https://localhost:8080/",
          "height": 72
        },
        "outputId": "c5d53293-6098-4d98-bfcf-7e85a35ce65e"
      },
      "source": [
        "for x in start_tag.next_siblings:\n",
        "  if x.name == None:\n",
        "    continue\n",
        "  if x.name == 'h4':\n",
        "    break\n",
        "  print(x)\n"
      ],
      "execution_count": 8,
      "outputs": [
        {
          "output_type": "stream",
          "text": [
            "<p>對於醫療保健產業而言，政策經常是決定企業成敗的關鍵之一。各國的人均醫療費用支出大不相同，而且價格與醫療品質不一定成正比。舉例來說，美國的醫療費用支出可謂世界之冠，但是醫療品質的排名卻低於英國與德國，而英、德兩國的醫療費用卻比美國低得許多（下圖）。</p>\n",
            "<p>由於醫療保健的政策會決定醫療費用與健保給付的項目，因此要說「政策定生死」其實一點也不為過。環顧全世界，各國的醫療體系正面臨費用上升的壓力，而這股壓力最後都落在民眾的身上。此外，新興國家對於醫療保健服務的需求與日俱增，且在提升醫療服務品質的過程中，費用也將隨之攀升。這些趨勢都將影響各種療法、醫藥技術與服務的訂價。</p>\n"
          ],
          "name": "stdout"
        }
      ]
    }
  ]
}